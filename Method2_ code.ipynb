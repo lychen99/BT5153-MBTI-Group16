{
  "metadata": {
    "kernelspec": {
      "language": "python",
      "display_name": "Python 3",
      "name": "python3"
    },
    "language_info": {
      "name": "python",
      "version": "3.7.9",
      "mimetype": "text/x-python",
      "codemirror_mode": {
        "name": "ipython",
        "version": 3
      },
      "pygments_lexer": "ipython3",
      "nbconvert_exporter": "python",
      "file_extension": ".py"
    },
    "colab": {
      "name": "mbti-personality-predictor-using-machine-learning (2).ipynb",
      "provenance": []
    }
  },
  "nbformat_minor": 0,
  "nbformat": 4,
  "cells": [
    {
      "cell_type": "code",
      "source": [
        "import pandas as pd\n",
        "import numpy as np\n",
        "from numpy import asarray\n",
        "from numpy import savetxt\n",
        "from numpy import loadtxt\n",
        "import pickle as pkl\n",
        "from scipy import sparse\n",
        "\n",
        "# Data Visualization\n",
        "import seaborn as sns\n",
        "import matplotlib.pyplot as plt\n",
        "\n",
        "# Text Processing\n",
        "import re\n",
        "import itertools\n",
        "import string\n",
        "import collections\n",
        "from collections import Counter\n",
        "from sklearn.preprocessing import LabelEncoder\n",
        "import nltk\n",
        "from nltk.classify import NaiveBayesClassifier\n",
        "from nltk.corpus import stopwords\n",
        "from nltk import word_tokenize\n",
        "from nltk.tokenize import word_tokenize\n",
        "from nltk.stem import PorterStemmer, WordNetLemmatizer\n",
        "\n",
        "# Machine Learning packages\n",
        "import sklearn\n",
        "from sklearn.feature_extraction.text import CountVectorizer\n",
        "from sklearn.feature_extraction.text import TfidfVectorizer\n",
        "from sklearn.feature_extraction.text import TfidfTransformer\n",
        "import sklearn.cluster as cluster\n",
        "from sklearn.manifold import TSNE\n",
        "\n",
        "# Model training and evaluation\n",
        "from sklearn.model_selection import train_test_split\n",
        "\n",
        "#Models\n",
        "from sklearn.linear_model import LogisticRegression\n",
        "from sklearn.linear_model import SGDClassifier\n",
        "from sklearn.neighbors import KNeighborsClassifier\n",
        "from sklearn.naive_bayes import GaussianNB\n",
        "from sklearn.svm import SVC\n",
        "from sklearn.ensemble import RandomForestClassifier, GradientBoostingClassifier\n",
        "from xgboost import XGBClassifier\n",
        "from xgboost import plot_importance\n",
        "\n",
        "#Metrics\n",
        "from sklearn.metrics import r2_score, mean_squared_error, mean_absolute_error, accuracy_score, balanced_accuracy_score\n",
        "from sklearn.metrics import precision_score, recall_score, f1_score, multilabel_confusion_matrix, confusion_matrix\n",
        "from sklearn.metrics import classification_report\n",
        "\n",
        "# Ignore noise warning\n",
        "import warnings\n",
        "warnings.filterwarnings(\"ignore\")"
      ],
      "metadata": {
        "id": "3SaYh2-DtaFj",
        "execution": {
          "iopub.status.busy": "2022-04-23T06:20:02.385879Z",
          "iopub.execute_input": "2022-04-23T06:20:02.386333Z",
          "iopub.status.idle": "2022-04-23T06:20:03.579176Z",
          "shell.execute_reply.started": "2022-04-23T06:20:02.386251Z",
          "shell.execute_reply": "2022-04-23T06:20:03.577883Z"
        },
        "trusted": true
      },
      "execution_count": 1,
      "outputs": []
    },
    {
      "cell_type": "code",
      "source": [
        "import sys, os\n",
        "if 'google.colab' in sys.modules:\n",
        "    # mount google drive\n",
        "    from google.colab import drive\n",
        "    drive.mount('/content/gdrive')\n",
        "    # specify the path of the folder containing \"file_name\" :\n",
        "    path_to_file = '/content/gdrive/My Drive/BT5153/'\n",
        "    print(path_to_file)\n",
        "    # change current path to the folder containing \"file_name\"\n",
        "    os.chdir(path_to_file)\n",
        "    !pwd"
      ],
      "metadata": {
        "colab": {
          "base_uri": "https://localhost:8080/"
        },
        "id": "4xsct1fSvfUt",
        "outputId": "9e753a81-a434-4d4a-f036-2c3f348d4da0"
      },
      "execution_count": 2,
      "outputs": [
        {
          "output_type": "stream",
          "name": "stdout",
          "text": [
            "Drive already mounted at /content/gdrive; to attempt to forcibly remount, call drive.mount(\"/content/gdrive\", force_remount=True).\n",
            "/content/gdrive/My Drive/BT5153/\n",
            "/content/gdrive/My Drive/BT5153\n"
          ]
        }
      ]
    },
    {
      "cell_type": "code",
      "source": [
        "#loading dataset\n",
        "data_set = pd.read_csv(\"mbti_1.csv\")\n",
        "data_set.tail()"
      ],
      "metadata": {
        "id": "bcVR9nCZbrKy",
        "outputId": "34005829-87a7-4782-9bc6-e2721409ca5a",
        "execution": {
          "iopub.status.busy": "2022-04-23T06:20:03.580914Z",
          "iopub.execute_input": "2022-04-23T06:20:03.581281Z",
          "iopub.status.idle": "2022-04-23T06:20:04.640121Z",
          "shell.execute_reply.started": "2022-04-23T06:20:03.581233Z",
          "shell.execute_reply": "2022-04-23T06:20:04.638908Z"
        },
        "trusted": true,
        "colab": {
          "base_uri": "https://localhost:8080/",
          "height": 206
        }
      },
      "execution_count": 3,
      "outputs": [
        {
          "output_type": "execute_result",
          "data": {
            "text/plain": [
              "      type                                              posts\n",
              "8670  ISFP  'https://www.youtube.com/watch?v=t8edHB_h908||...\n",
              "8671  ENFP  'So...if this thread already exists someplace ...\n",
              "8672  INTP  'So many questions when i do these things.  I ...\n",
              "8673  INFP  'I am very conflicted right now when it comes ...\n",
              "8674  INFP  'It has been too long since I have been on per..."
            ],
            "text/html": [
              "\n",
              "  <div id=\"df-9871020d-bd63-451f-8560-3cdbe7f9987a\">\n",
              "    <div class=\"colab-df-container\">\n",
              "      <div>\n",
              "<style scoped>\n",
              "    .dataframe tbody tr th:only-of-type {\n",
              "        vertical-align: middle;\n",
              "    }\n",
              "\n",
              "    .dataframe tbody tr th {\n",
              "        vertical-align: top;\n",
              "    }\n",
              "\n",
              "    .dataframe thead th {\n",
              "        text-align: right;\n",
              "    }\n",
              "</style>\n",
              "<table border=\"1\" class=\"dataframe\">\n",
              "  <thead>\n",
              "    <tr style=\"text-align: right;\">\n",
              "      <th></th>\n",
              "      <th>type</th>\n",
              "      <th>posts</th>\n",
              "    </tr>\n",
              "  </thead>\n",
              "  <tbody>\n",
              "    <tr>\n",
              "      <th>8670</th>\n",
              "      <td>ISFP</td>\n",
              "      <td>'https://www.youtube.com/watch?v=t8edHB_h908||...</td>\n",
              "    </tr>\n",
              "    <tr>\n",
              "      <th>8671</th>\n",
              "      <td>ENFP</td>\n",
              "      <td>'So...if this thread already exists someplace ...</td>\n",
              "    </tr>\n",
              "    <tr>\n",
              "      <th>8672</th>\n",
              "      <td>INTP</td>\n",
              "      <td>'So many questions when i do these things.  I ...</td>\n",
              "    </tr>\n",
              "    <tr>\n",
              "      <th>8673</th>\n",
              "      <td>INFP</td>\n",
              "      <td>'I am very conflicted right now when it comes ...</td>\n",
              "    </tr>\n",
              "    <tr>\n",
              "      <th>8674</th>\n",
              "      <td>INFP</td>\n",
              "      <td>'It has been too long since I have been on per...</td>\n",
              "    </tr>\n",
              "  </tbody>\n",
              "</table>\n",
              "</div>\n",
              "      <button class=\"colab-df-convert\" onclick=\"convertToInteractive('df-9871020d-bd63-451f-8560-3cdbe7f9987a')\"\n",
              "              title=\"Convert this dataframe to an interactive table.\"\n",
              "              style=\"display:none;\">\n",
              "        \n",
              "  <svg xmlns=\"http://www.w3.org/2000/svg\" height=\"24px\"viewBox=\"0 0 24 24\"\n",
              "       width=\"24px\">\n",
              "    <path d=\"M0 0h24v24H0V0z\" fill=\"none\"/>\n",
              "    <path d=\"M18.56 5.44l.94 2.06.94-2.06 2.06-.94-2.06-.94-.94-2.06-.94 2.06-2.06.94zm-11 1L8.5 8.5l.94-2.06 2.06-.94-2.06-.94L8.5 2.5l-.94 2.06-2.06.94zm10 10l.94 2.06.94-2.06 2.06-.94-2.06-.94-.94-2.06-.94 2.06-2.06.94z\"/><path d=\"M17.41 7.96l-1.37-1.37c-.4-.4-.92-.59-1.43-.59-.52 0-1.04.2-1.43.59L10.3 9.45l-7.72 7.72c-.78.78-.78 2.05 0 2.83L4 21.41c.39.39.9.59 1.41.59.51 0 1.02-.2 1.41-.59l7.78-7.78 2.81-2.81c.8-.78.8-2.07 0-2.86zM5.41 20L4 18.59l7.72-7.72 1.47 1.35L5.41 20z\"/>\n",
              "  </svg>\n",
              "      </button>\n",
              "      \n",
              "  <style>\n",
              "    .colab-df-container {\n",
              "      display:flex;\n",
              "      flex-wrap:wrap;\n",
              "      gap: 12px;\n",
              "    }\n",
              "\n",
              "    .colab-df-convert {\n",
              "      background-color: #E8F0FE;\n",
              "      border: none;\n",
              "      border-radius: 50%;\n",
              "      cursor: pointer;\n",
              "      display: none;\n",
              "      fill: #1967D2;\n",
              "      height: 32px;\n",
              "      padding: 0 0 0 0;\n",
              "      width: 32px;\n",
              "    }\n",
              "\n",
              "    .colab-df-convert:hover {\n",
              "      background-color: #E2EBFA;\n",
              "      box-shadow: 0px 1px 2px rgba(60, 64, 67, 0.3), 0px 1px 3px 1px rgba(60, 64, 67, 0.15);\n",
              "      fill: #174EA6;\n",
              "    }\n",
              "\n",
              "    [theme=dark] .colab-df-convert {\n",
              "      background-color: #3B4455;\n",
              "      fill: #D2E3FC;\n",
              "    }\n",
              "\n",
              "    [theme=dark] .colab-df-convert:hover {\n",
              "      background-color: #434B5C;\n",
              "      box-shadow: 0px 1px 3px 1px rgba(0, 0, 0, 0.15);\n",
              "      filter: drop-shadow(0px 1px 2px rgba(0, 0, 0, 0.3));\n",
              "      fill: #FFFFFF;\n",
              "    }\n",
              "  </style>\n",
              "\n",
              "      <script>\n",
              "        const buttonEl =\n",
              "          document.querySelector('#df-9871020d-bd63-451f-8560-3cdbe7f9987a button.colab-df-convert');\n",
              "        buttonEl.style.display =\n",
              "          google.colab.kernel.accessAllowed ? 'block' : 'none';\n",
              "\n",
              "        async function convertToInteractive(key) {\n",
              "          const element = document.querySelector('#df-9871020d-bd63-451f-8560-3cdbe7f9987a');\n",
              "          const dataTable =\n",
              "            await google.colab.kernel.invokeFunction('convertToInteractive',\n",
              "                                                     [key], {});\n",
              "          if (!dataTable) return;\n",
              "\n",
              "          const docLinkHtml = 'Like what you see? Visit the ' +\n",
              "            '<a target=\"_blank\" href=https://colab.research.google.com/notebooks/data_table.ipynb>data table notebook</a>'\n",
              "            + ' to learn more about interactive tables.';\n",
              "          element.innerHTML = '';\n",
              "          dataTable['output_type'] = 'display_data';\n",
              "          await google.colab.output.renderOutput(dataTable, element);\n",
              "          const docLink = document.createElement('div');\n",
              "          docLink.innerHTML = docLinkHtml;\n",
              "          element.appendChild(docLink);\n",
              "        }\n",
              "      </script>\n",
              "    </div>\n",
              "  </div>\n",
              "  "
            ]
          },
          "metadata": {},
          "execution_count": 3
        }
      ]
    },
    {
      "cell_type": "markdown",
      "source": [
        "# Exploratory data analysis"
      ],
      "metadata": {
        "id": "V53I4rU6nfGD"
      }
    },
    {
      "cell_type": "markdown",
      "source": [
        "Checking missing"
      ],
      "metadata": {
        "id": "qnZ1cmTckvkS"
      }
    },
    {
      "cell_type": "code",
      "source": [
        "data_set.isnull().any()"
      ],
      "metadata": {
        "id": "Jqt-_yEhFib5",
        "outputId": "4518892f-40ab-43fb-df47-ff54ec5c9911",
        "execution": {
          "iopub.status.busy": "2022-04-23T06:20:04.641607Z",
          "iopub.execute_input": "2022-04-23T06:20:04.641989Z",
          "iopub.status.idle": "2022-04-23T06:20:04.658427Z",
          "shell.execute_reply.started": "2022-04-23T06:20:04.641955Z",
          "shell.execute_reply": "2022-04-23T06:20:04.656798Z"
        },
        "trusted": true,
        "colab": {
          "base_uri": "https://localhost:8080/"
        }
      },
      "execution_count": 4,
      "outputs": [
        {
          "output_type": "execute_result",
          "data": {
            "text/plain": [
              "type     False\n",
              "posts    False\n",
              "dtype: bool"
            ]
          },
          "metadata": {},
          "execution_count": 4
        }
      ]
    },
    {
      "cell_type": "code",
      "source": [
        "nRow, nCol = data_set.shape\n",
        "print(f'There are {nRow} rows and {nCol} columns')"
      ],
      "metadata": {
        "id": "N8Tny56TbrK0",
        "outputId": "dfef28ef-7c29-4df3-9106-9f6a807e8725",
        "execution": {
          "iopub.status.busy": "2022-04-23T06:20:04.660633Z",
          "iopub.execute_input": "2022-04-23T06:20:04.661167Z",
          "iopub.status.idle": "2022-04-23T06:20:04.670387Z",
          "shell.execute_reply.started": "2022-04-23T06:20:04.661112Z",
          "shell.execute_reply": "2022-04-23T06:20:04.669133Z"
        },
        "trusted": true,
        "colab": {
          "base_uri": "https://localhost:8080/"
        }
      },
      "execution_count": 5,
      "outputs": [
        {
          "output_type": "stream",
          "name": "stdout",
          "text": [
            "There are 8675 rows and 2 columns\n"
          ]
        }
      ]
    },
    {
      "cell_type": "code",
      "source": [
        "data_set.info()"
      ],
      "metadata": {
        "id": "6vC7tCGjjqLB",
        "outputId": "9947a7d1-7b05-4122-f710-f094ee531bd1",
        "execution": {
          "iopub.status.busy": "2022-04-23T06:20:04.672323Z",
          "iopub.execute_input": "2022-04-23T06:20:04.672831Z",
          "iopub.status.idle": "2022-04-23T06:20:04.695543Z",
          "shell.execute_reply.started": "2022-04-23T06:20:04.672759Z",
          "shell.execute_reply": "2022-04-23T06:20:04.694139Z"
        },
        "trusted": true,
        "colab": {
          "base_uri": "https://localhost:8080/"
        }
      },
      "execution_count": 6,
      "outputs": [
        {
          "output_type": "stream",
          "name": "stdout",
          "text": [
            "<class 'pandas.core.frame.DataFrame'>\n",
            "RangeIndex: 8675 entries, 0 to 8674\n",
            "Data columns (total 2 columns):\n",
            " #   Column  Non-Null Count  Dtype \n",
            "---  ------  --------------  ----- \n",
            " 0   type    8675 non-null   object\n",
            " 1   posts   8675 non-null   object\n",
            "dtypes: object(2)\n",
            "memory usage: 135.7+ KB\n"
          ]
        }
      ]
    },
    {
      "cell_type": "code",
      "source": [
        "data_set.describe(include=['object'])"
      ],
      "metadata": {
        "id": "6b-ZzL29jsnO",
        "outputId": "19f62cd4-c9b8-480a-9aee-09b6d2dbef0c",
        "execution": {
          "iopub.status.busy": "2022-04-23T06:20:04.700867Z",
          "iopub.execute_input": "2022-04-23T06:20:04.701319Z",
          "iopub.status.idle": "2022-04-23T06:20:04.798824Z",
          "shell.execute_reply.started": "2022-04-23T06:20:04.701268Z",
          "shell.execute_reply": "2022-04-23T06:20:04.797579Z"
        },
        "trusted": true,
        "colab": {
          "base_uri": "https://localhost:8080/",
          "height": 175
        }
      },
      "execution_count": 7,
      "outputs": [
        {
          "output_type": "execute_result",
          "data": {
            "text/plain": [
              "        type                                              posts\n",
              "count   8675                                               8675\n",
              "unique    16                                               8675\n",
              "top     INFP  'http://www.youtube.com/watch?v=qsXHcwe3krw|||...\n",
              "freq    1832                                                  1"
            ],
            "text/html": [
              "\n",
              "  <div id=\"df-99024936-8506-42f0-88fc-cc74a1f8ef53\">\n",
              "    <div class=\"colab-df-container\">\n",
              "      <div>\n",
              "<style scoped>\n",
              "    .dataframe tbody tr th:only-of-type {\n",
              "        vertical-align: middle;\n",
              "    }\n",
              "\n",
              "    .dataframe tbody tr th {\n",
              "        vertical-align: top;\n",
              "    }\n",
              "\n",
              "    .dataframe thead th {\n",
              "        text-align: right;\n",
              "    }\n",
              "</style>\n",
              "<table border=\"1\" class=\"dataframe\">\n",
              "  <thead>\n",
              "    <tr style=\"text-align: right;\">\n",
              "      <th></th>\n",
              "      <th>type</th>\n",
              "      <th>posts</th>\n",
              "    </tr>\n",
              "  </thead>\n",
              "  <tbody>\n",
              "    <tr>\n",
              "      <th>count</th>\n",
              "      <td>8675</td>\n",
              "      <td>8675</td>\n",
              "    </tr>\n",
              "    <tr>\n",
              "      <th>unique</th>\n",
              "      <td>16</td>\n",
              "      <td>8675</td>\n",
              "    </tr>\n",
              "    <tr>\n",
              "      <th>top</th>\n",
              "      <td>INFP</td>\n",
              "      <td>'http://www.youtube.com/watch?v=qsXHcwe3krw|||...</td>\n",
              "    </tr>\n",
              "    <tr>\n",
              "      <th>freq</th>\n",
              "      <td>1832</td>\n",
              "      <td>1</td>\n",
              "    </tr>\n",
              "  </tbody>\n",
              "</table>\n",
              "</div>\n",
              "      <button class=\"colab-df-convert\" onclick=\"convertToInteractive('df-99024936-8506-42f0-88fc-cc74a1f8ef53')\"\n",
              "              title=\"Convert this dataframe to an interactive table.\"\n",
              "              style=\"display:none;\">\n",
              "        \n",
              "  <svg xmlns=\"http://www.w3.org/2000/svg\" height=\"24px\"viewBox=\"0 0 24 24\"\n",
              "       width=\"24px\">\n",
              "    <path d=\"M0 0h24v24H0V0z\" fill=\"none\"/>\n",
              "    <path d=\"M18.56 5.44l.94 2.06.94-2.06 2.06-.94-2.06-.94-.94-2.06-.94 2.06-2.06.94zm-11 1L8.5 8.5l.94-2.06 2.06-.94-2.06-.94L8.5 2.5l-.94 2.06-2.06.94zm10 10l.94 2.06.94-2.06 2.06-.94-2.06-.94-.94-2.06-.94 2.06-2.06.94z\"/><path d=\"M17.41 7.96l-1.37-1.37c-.4-.4-.92-.59-1.43-.59-.52 0-1.04.2-1.43.59L10.3 9.45l-7.72 7.72c-.78.78-.78 2.05 0 2.83L4 21.41c.39.39.9.59 1.41.59.51 0 1.02-.2 1.41-.59l7.78-7.78 2.81-2.81c.8-.78.8-2.07 0-2.86zM5.41 20L4 18.59l7.72-7.72 1.47 1.35L5.41 20z\"/>\n",
              "  </svg>\n",
              "      </button>\n",
              "      \n",
              "  <style>\n",
              "    .colab-df-container {\n",
              "      display:flex;\n",
              "      flex-wrap:wrap;\n",
              "      gap: 12px;\n",
              "    }\n",
              "\n",
              "    .colab-df-convert {\n",
              "      background-color: #E8F0FE;\n",
              "      border: none;\n",
              "      border-radius: 50%;\n",
              "      cursor: pointer;\n",
              "      display: none;\n",
              "      fill: #1967D2;\n",
              "      height: 32px;\n",
              "      padding: 0 0 0 0;\n",
              "      width: 32px;\n",
              "    }\n",
              "\n",
              "    .colab-df-convert:hover {\n",
              "      background-color: #E2EBFA;\n",
              "      box-shadow: 0px 1px 2px rgba(60, 64, 67, 0.3), 0px 1px 3px 1px rgba(60, 64, 67, 0.15);\n",
              "      fill: #174EA6;\n",
              "    }\n",
              "\n",
              "    [theme=dark] .colab-df-convert {\n",
              "      background-color: #3B4455;\n",
              "      fill: #D2E3FC;\n",
              "    }\n",
              "\n",
              "    [theme=dark] .colab-df-convert:hover {\n",
              "      background-color: #434B5C;\n",
              "      box-shadow: 0px 1px 3px 1px rgba(0, 0, 0, 0.15);\n",
              "      filter: drop-shadow(0px 1px 2px rgba(0, 0, 0, 0.3));\n",
              "      fill: #FFFFFF;\n",
              "    }\n",
              "  </style>\n",
              "\n",
              "      <script>\n",
              "        const buttonEl =\n",
              "          document.querySelector('#df-99024936-8506-42f0-88fc-cc74a1f8ef53 button.colab-df-convert');\n",
              "        buttonEl.style.display =\n",
              "          google.colab.kernel.accessAllowed ? 'block' : 'none';\n",
              "\n",
              "        async function convertToInteractive(key) {\n",
              "          const element = document.querySelector('#df-99024936-8506-42f0-88fc-cc74a1f8ef53');\n",
              "          const dataTable =\n",
              "            await google.colab.kernel.invokeFunction('convertToInteractive',\n",
              "                                                     [key], {});\n",
              "          if (!dataTable) return;\n",
              "\n",
              "          const docLinkHtml = 'Like what you see? Visit the ' +\n",
              "            '<a target=\"_blank\" href=https://colab.research.google.com/notebooks/data_table.ipynb>data table notebook</a>'\n",
              "            + ' to learn more about interactive tables.';\n",
              "          element.innerHTML = '';\n",
              "          dataTable['output_type'] = 'display_data';\n",
              "          await google.colab.output.renderOutput(dataTable, element);\n",
              "          const docLink = document.createElement('div');\n",
              "          docLink.innerHTML = docLinkHtml;\n",
              "          element.appendChild(docLink);\n",
              "        }\n",
              "      </script>\n",
              "    </div>\n",
              "  </div>\n",
              "  "
            ]
          },
          "metadata": {},
          "execution_count": 7
        }
      ]
    },
    {
      "cell_type": "markdown",
      "source": [
        "Now we finding the unique values from the 'type' of personality column"
      ],
      "metadata": {
        "id": "4OFQ5K7Pla_x"
      }
    },
    {
      "cell_type": "code",
      "source": [
        "types = np.unique(np.array(data_set['type']))\n",
        "types"
      ],
      "metadata": {
        "id": "isZ4MYyobrK1",
        "outputId": "c187355b-046a-45b0-edd7-a677270c4f37",
        "execution": {
          "iopub.status.busy": "2022-04-23T06:20:04.803169Z",
          "iopub.execute_input": "2022-04-23T06:20:04.803534Z",
          "iopub.status.idle": "2022-04-23T06:20:04.818339Z",
          "shell.execute_reply.started": "2022-04-23T06:20:04.803496Z",
          "shell.execute_reply": "2022-04-23T06:20:04.817222Z"
        },
        "trusted": true,
        "colab": {
          "base_uri": "https://localhost:8080/"
        }
      },
      "execution_count": 8,
      "outputs": [
        {
          "output_type": "execute_result",
          "data": {
            "text/plain": [
              "array(['ENFJ', 'ENFP', 'ENTJ', 'ENTP', 'ESFJ', 'ESFP', 'ESTJ', 'ESTP',\n",
              "       'INFJ', 'INFP', 'INTJ', 'INTP', 'ISFJ', 'ISFP', 'ISTJ', 'ISTP'],\n",
              "      dtype=object)"
            ]
          },
          "metadata": {},
          "execution_count": 8
        }
      ]
    },
    {
      "cell_type": "code",
      "source": [
        "total = data_set.groupby(['type']).count()*50\n",
        "total"
      ],
      "metadata": {
        "id": "0jDsUDiPbrK2",
        "outputId": "bd95967e-43b7-4d92-ae20-0816ee38ca89",
        "execution": {
          "iopub.status.busy": "2022-04-23T06:20:04.819660Z",
          "iopub.execute_input": "2022-04-23T06:20:04.820004Z",
          "iopub.status.idle": "2022-04-23T06:20:04.849628Z",
          "shell.execute_reply.started": "2022-04-23T06:20:04.819972Z",
          "shell.execute_reply": "2022-04-23T06:20:04.848592Z"
        },
        "trusted": true,
        "colab": {
          "base_uri": "https://localhost:8080/",
          "height": 582
        }
      },
      "execution_count": 9,
      "outputs": [
        {
          "output_type": "execute_result",
          "data": {
            "text/plain": [
              "      posts\n",
              "type       \n",
              "ENFJ   9500\n",
              "ENFP  33750\n",
              "ENTJ  11550\n",
              "ENTP  34250\n",
              "ESFJ   2100\n",
              "ESFP   2400\n",
              "ESTJ   1950\n",
              "ESTP   4450\n",
              "INFJ  73500\n",
              "INFP  91600\n",
              "INTJ  54550\n",
              "INTP  65200\n",
              "ISFJ   8300\n",
              "ISFP  13550\n",
              "ISTJ  10250\n",
              "ISTP  16850"
            ],
            "text/html": [
              "\n",
              "  <div id=\"df-5618d0c7-1e93-4365-be86-7c447e864081\">\n",
              "    <div class=\"colab-df-container\">\n",
              "      <div>\n",
              "<style scoped>\n",
              "    .dataframe tbody tr th:only-of-type {\n",
              "        vertical-align: middle;\n",
              "    }\n",
              "\n",
              "    .dataframe tbody tr th {\n",
              "        vertical-align: top;\n",
              "    }\n",
              "\n",
              "    .dataframe thead th {\n",
              "        text-align: right;\n",
              "    }\n",
              "</style>\n",
              "<table border=\"1\" class=\"dataframe\">\n",
              "  <thead>\n",
              "    <tr style=\"text-align: right;\">\n",
              "      <th></th>\n",
              "      <th>posts</th>\n",
              "    </tr>\n",
              "    <tr>\n",
              "      <th>type</th>\n",
              "      <th></th>\n",
              "    </tr>\n",
              "  </thead>\n",
              "  <tbody>\n",
              "    <tr>\n",
              "      <th>ENFJ</th>\n",
              "      <td>9500</td>\n",
              "    </tr>\n",
              "    <tr>\n",
              "      <th>ENFP</th>\n",
              "      <td>33750</td>\n",
              "    </tr>\n",
              "    <tr>\n",
              "      <th>ENTJ</th>\n",
              "      <td>11550</td>\n",
              "    </tr>\n",
              "    <tr>\n",
              "      <th>ENTP</th>\n",
              "      <td>34250</td>\n",
              "    </tr>\n",
              "    <tr>\n",
              "      <th>ESFJ</th>\n",
              "      <td>2100</td>\n",
              "    </tr>\n",
              "    <tr>\n",
              "      <th>ESFP</th>\n",
              "      <td>2400</td>\n",
              "    </tr>\n",
              "    <tr>\n",
              "      <th>ESTJ</th>\n",
              "      <td>1950</td>\n",
              "    </tr>\n",
              "    <tr>\n",
              "      <th>ESTP</th>\n",
              "      <td>4450</td>\n",
              "    </tr>\n",
              "    <tr>\n",
              "      <th>INFJ</th>\n",
              "      <td>73500</td>\n",
              "    </tr>\n",
              "    <tr>\n",
              "      <th>INFP</th>\n",
              "      <td>91600</td>\n",
              "    </tr>\n",
              "    <tr>\n",
              "      <th>INTJ</th>\n",
              "      <td>54550</td>\n",
              "    </tr>\n",
              "    <tr>\n",
              "      <th>INTP</th>\n",
              "      <td>65200</td>\n",
              "    </tr>\n",
              "    <tr>\n",
              "      <th>ISFJ</th>\n",
              "      <td>8300</td>\n",
              "    </tr>\n",
              "    <tr>\n",
              "      <th>ISFP</th>\n",
              "      <td>13550</td>\n",
              "    </tr>\n",
              "    <tr>\n",
              "      <th>ISTJ</th>\n",
              "      <td>10250</td>\n",
              "    </tr>\n",
              "    <tr>\n",
              "      <th>ISTP</th>\n",
              "      <td>16850</td>\n",
              "    </tr>\n",
              "  </tbody>\n",
              "</table>\n",
              "</div>\n",
              "      <button class=\"colab-df-convert\" onclick=\"convertToInteractive('df-5618d0c7-1e93-4365-be86-7c447e864081')\"\n",
              "              title=\"Convert this dataframe to an interactive table.\"\n",
              "              style=\"display:none;\">\n",
              "        \n",
              "  <svg xmlns=\"http://www.w3.org/2000/svg\" height=\"24px\"viewBox=\"0 0 24 24\"\n",
              "       width=\"24px\">\n",
              "    <path d=\"M0 0h24v24H0V0z\" fill=\"none\"/>\n",
              "    <path d=\"M18.56 5.44l.94 2.06.94-2.06 2.06-.94-2.06-.94-.94-2.06-.94 2.06-2.06.94zm-11 1L8.5 8.5l.94-2.06 2.06-.94-2.06-.94L8.5 2.5l-.94 2.06-2.06.94zm10 10l.94 2.06.94-2.06 2.06-.94-2.06-.94-.94-2.06-.94 2.06-2.06.94z\"/><path d=\"M17.41 7.96l-1.37-1.37c-.4-.4-.92-.59-1.43-.59-.52 0-1.04.2-1.43.59L10.3 9.45l-7.72 7.72c-.78.78-.78 2.05 0 2.83L4 21.41c.39.39.9.59 1.41.59.51 0 1.02-.2 1.41-.59l7.78-7.78 2.81-2.81c.8-.78.8-2.07 0-2.86zM5.41 20L4 18.59l7.72-7.72 1.47 1.35L5.41 20z\"/>\n",
              "  </svg>\n",
              "      </button>\n",
              "      \n",
              "  <style>\n",
              "    .colab-df-container {\n",
              "      display:flex;\n",
              "      flex-wrap:wrap;\n",
              "      gap: 12px;\n",
              "    }\n",
              "\n",
              "    .colab-df-convert {\n",
              "      background-color: #E8F0FE;\n",
              "      border: none;\n",
              "      border-radius: 50%;\n",
              "      cursor: pointer;\n",
              "      display: none;\n",
              "      fill: #1967D2;\n",
              "      height: 32px;\n",
              "      padding: 0 0 0 0;\n",
              "      width: 32px;\n",
              "    }\n",
              "\n",
              "    .colab-df-convert:hover {\n",
              "      background-color: #E2EBFA;\n",
              "      box-shadow: 0px 1px 2px rgba(60, 64, 67, 0.3), 0px 1px 3px 1px rgba(60, 64, 67, 0.15);\n",
              "      fill: #174EA6;\n",
              "    }\n",
              "\n",
              "    [theme=dark] .colab-df-convert {\n",
              "      background-color: #3B4455;\n",
              "      fill: #D2E3FC;\n",
              "    }\n",
              "\n",
              "    [theme=dark] .colab-df-convert:hover {\n",
              "      background-color: #434B5C;\n",
              "      box-shadow: 0px 1px 3px 1px rgba(0, 0, 0, 0.15);\n",
              "      filter: drop-shadow(0px 1px 2px rgba(0, 0, 0, 0.3));\n",
              "      fill: #FFFFFF;\n",
              "    }\n",
              "  </style>\n",
              "\n",
              "      <script>\n",
              "        const buttonEl =\n",
              "          document.querySelector('#df-5618d0c7-1e93-4365-be86-7c447e864081 button.colab-df-convert');\n",
              "        buttonEl.style.display =\n",
              "          google.colab.kernel.accessAllowed ? 'block' : 'none';\n",
              "\n",
              "        async function convertToInteractive(key) {\n",
              "          const element = document.querySelector('#df-5618d0c7-1e93-4365-be86-7c447e864081');\n",
              "          const dataTable =\n",
              "            await google.colab.kernel.invokeFunction('convertToInteractive',\n",
              "                                                     [key], {});\n",
              "          if (!dataTable) return;\n",
              "\n",
              "          const docLinkHtml = 'Like what you see? Visit the ' +\n",
              "            '<a target=\"_blank\" href=https://colab.research.google.com/notebooks/data_table.ipynb>data table notebook</a>'\n",
              "            + ' to learn more about interactive tables.';\n",
              "          element.innerHTML = '';\n",
              "          dataTable['output_type'] = 'display_data';\n",
              "          await google.colab.output.renderOutput(dataTable, element);\n",
              "          const docLink = document.createElement('div');\n",
              "          docLink.innerHTML = docLinkHtml;\n",
              "          element.appendChild(docLink);\n",
              "        }\n",
              "      </script>\n",
              "    </div>\n",
              "  </div>\n",
              "  "
            ]
          },
          "metadata": {},
          "execution_count": 9
        }
      ]
    },
    {
      "cell_type": "markdown",
      "source": [
        "Data visualization for no. of posts for each personality type"
      ],
      "metadata": {
        "id": "J_p9dyEWmKuc"
      }
    },
    {
      "cell_type": "code",
      "source": [
        "plt.figure(figsize = (12,4))\n",
        "plt.bar(np.array(total.index), height = total['posts'],)\n",
        "plt.xlabel('Personality types', size = 14)\n",
        "plt.ylabel('No. of posts available', size = 14)\n",
        "plt.title('Total posts for each personality type')"
      ],
      "metadata": {
        "id": "FCdUpk1fbrK3",
        "outputId": "76f5fb45-1d2f-4c34-86e6-1192b9c938ce",
        "execution": {
          "iopub.status.busy": "2022-04-23T06:20:04.850991Z",
          "iopub.execute_input": "2022-04-23T06:20:04.851735Z",
          "iopub.status.idle": "2022-04-23T06:20:05.206359Z",
          "shell.execute_reply.started": "2022-04-23T06:20:04.851684Z",
          "shell.execute_reply": "2022-04-23T06:20:05.205305Z"
        },
        "trusted": true,
        "colab": {
          "base_uri": "https://localhost:8080/",
          "height": 317
        }
      },
      "execution_count": 10,
      "outputs": [
        {
          "output_type": "execute_result",
          "data": {
            "text/plain": [
              "Text(0.5, 1.0, 'Total posts for each personality type')"
            ]
          },
          "metadata": {},
          "execution_count": 10
        },
        {
          "output_type": "display_data",
          "data": {
            "text/plain": [
              "<Figure size 864x288 with 1 Axes>"
            ],
            "image/png": "[encoded data removed]"
          },
          "metadata": {
            "needs_background": "light"
          }
        }
      ]
    },
    {
      "cell_type": "markdown",
      "source": [
        "# Pre-Processing Stage\n",
        "**NOTE**: this phase might take some time to execute due to computationaly expensive operations"
      ],
      "metadata": {
        "id": "THTk2OcUj6V0"
      }
    },
    {
      "cell_type": "code",
      "source": [
        "def preprocess_text(df, remove_special=True):\n",
        "    texts = df['posts'].copy()\n",
        "    labels = df['type'].copy()\n",
        "\n",
        "    #Remove links \n",
        "    df[\"posts\"] = df[\"posts\"].apply(lambda x: re.sub(r'https?:\\/\\/.*?[\\s+]', '', x.replace(\"|\",\" \") + \" \"))\n",
        "    \n",
        "    #Keep the End Of Sentence characters\n",
        "    df[\"posts\"] = df[\"posts\"].apply(lambda x: re.sub(r'\\.', ' EOSTokenDot ', x + \" \"))\n",
        "    df[\"posts\"] = df[\"posts\"].apply(lambda x: re.sub(r'\\?', ' EOSTokenQuest ', x + \" \"))\n",
        "    df[\"posts\"] = df[\"posts\"].apply(lambda x: re.sub(r'!', ' EOSTokenExs ', x + \" \"))\n",
        "    \n",
        "    #Strip Punctation\n",
        "    df[\"posts\"] = df[\"posts\"].apply(lambda x: re.sub(r'[\\.+]', \".\",x))\n",
        "\n",
        "    #Remove multiple fullstops\n",
        "    df[\"posts\"] = df[\"posts\"].apply(lambda x: re.sub(r'[^\\w\\s]','',x))\n",
        "\n",
        "    #Remove Non-words\n",
        "    df[\"posts\"] = df[\"posts\"].apply(lambda x: re.sub(r'[^a-zA-Z\\s]','',x))\n",
        "\n",
        "    #Convert posts to lowercase\n",
        "    df[\"posts\"] = df[\"posts\"].apply(lambda x: x.lower())\n",
        "\n",
        "    #Remove multiple letter repeating words\n",
        "    df[\"posts\"] = df[\"posts\"].apply(lambda x: re.sub(r'([a-z])\\1{2,}[\\s|\\w]*','',x)) \n",
        "\n",
        "    #Remove very short or long words\n",
        "    df[\"posts\"] = df[\"posts\"].apply(lambda x: re.sub(r'(\\b\\w{0,3})?\\b','',x)) \n",
        "    df[\"posts\"] = df[\"posts\"].apply(lambda x: re.sub(r'(\\b\\w{30,1000})?\\b','',x))\n",
        "\n",
        "    #Remove MBTI Personality Words - crutial in order to get valid model accuracy estimation for unseen data. \n",
        "    if remove_special:\n",
        "        pers_types = ['INFP' ,'INFJ', 'INTP', 'INTJ', 'ENTP', 'ENFP', 'ISTP' ,'ISFP' ,'ENTJ', 'ISTJ','ENFJ', 'ISFJ' ,'ESTP', 'ESFP' ,'ESFJ' ,'ESTJ']\n",
        "        pers_types = [p.lower() for p in pers_types]\n",
        "        p = re.compile(\"(\" + \"|\".join(pers_types) + \")\")\n",
        "    \n",
        "    return df\n",
        "\n",
        "#Preprocessing of entered Text\n",
        "new_df = preprocess_text(data_set)"
      ],
      "metadata": {
        "id": "jVyMZBjubrK7",
        "execution": {
          "iopub.status.busy": "2022-04-23T06:20:05.207984Z",
          "iopub.execute_input": "2022-04-23T06:20:05.208386Z",
          "iopub.status.idle": "2022-04-23T06:21:00.245444Z",
          "shell.execute_reply.started": "2022-04-23T06:20:05.208351Z",
          "shell.execute_reply": "2022-04-23T06:21:00.244326Z"
        },
        "trusted": true
      },
      "execution_count": 11,
      "outputs": []
    },
    {
      "cell_type": "code",
      "source": [
        "#Remove posts with less than X words\n",
        "min_words = 15\n",
        "print(\"Before : Number of posts\", len(new_df)) \n",
        "new_df[\"no. of. words\"] = new_df[\"posts\"].apply(lambda x: len(re.findall(r'\\w+', x)))\n",
        "new_df = new_df[new_df[\"no. of. words\"] >= min_words]\n",
        "\n",
        "print(\"After : Number of posts\", len(new_df))"
      ],
      "metadata": {
        "id": "9mY_KC3NbrK8",
        "outputId": "50ce5116-5e06-4d89-d3ef-c8c0a075e3e6",
        "execution": {
          "iopub.status.busy": "2022-04-23T06:21:00.247915Z",
          "iopub.execute_input": "2022-04-23T06:21:00.248215Z",
          "iopub.status.idle": "2022-04-23T06:21:02.508383Z",
          "shell.execute_reply.started": "2022-04-23T06:21:00.248186Z",
          "shell.execute_reply": "2022-04-23T06:21:02.506968Z"
        },
        "trusted": true,
        "colab": {
          "base_uri": "https://localhost:8080/"
        }
      },
      "execution_count": 12,
      "outputs": [
        {
          "output_type": "stream",
          "name": "stdout",
          "text": [
            "Before : Number of posts 8675\n",
            "After : Number of posts 8466\n"
          ]
        }
      ]
    },
    {
      "cell_type": "markdown",
      "source": [
        "# Feature Engineering "
      ],
      "metadata": {
        "id": "zKQgku45kQWl"
      }
    },
    {
      "cell_type": "code",
      "source": [
        "new_df.head()"
      ],
      "metadata": {
        "id": "8CR6jQBObrK9",
        "outputId": "8ebd53a1-a914-4d9e-b56e-f617a7fc9fc4",
        "execution": {
          "iopub.status.busy": "2022-04-23T06:21:02.509722Z",
          "iopub.execute_input": "2022-04-23T06:21:02.510076Z",
          "iopub.status.idle": "2022-04-23T06:21:02.522368Z",
          "shell.execute_reply.started": "2022-04-23T06:21:02.510002Z",
          "shell.execute_reply": "2022-04-23T06:21:02.521230Z"
        },
        "trusted": true,
        "colab": {
          "base_uri": "https://localhost:8080/",
          "height": 206
        }
      },
      "execution_count": 13,
      "outputs": [
        {
          "output_type": "execute_result",
          "data": {
            "text/plain": [
              "   type                                              posts  no. of. words\n",
              "0  INFJ      enfp  intj moments   sportscenter    plays...            430\n",
              "1  ENTP   finding  lack    these posts very alarming eo...            803\n",
              "2  INTP  good         course  which    know thats  bles...            253\n",
              "3  INTJ  dear intp    enjoyed  conversation  other  eos...            777\n",
              "4  ENTJ  youre fired eostokendot    thats another silly...            402"
            ],
            "text/html": [
              "\n",
              "  <div id=\"df-cdb72654-9a2c-469d-95dc-d713f4dd755f\">\n",
              "    <div class=\"colab-df-container\">\n",
              "      <div>\n",
              "<style scoped>\n",
              "    .dataframe tbody tr th:only-of-type {\n",
              "        vertical-align: middle;\n",
              "    }\n",
              "\n",
              "    .dataframe tbody tr th {\n",
              "        vertical-align: top;\n",
              "    }\n",
              "\n",
              "    .dataframe thead th {\n",
              "        text-align: right;\n",
              "    }\n",
              "</style>\n",
              "<table border=\"1\" class=\"dataframe\">\n",
              "  <thead>\n",
              "    <tr style=\"text-align: right;\">\n",
              "      <th></th>\n",
              "      <th>type</th>\n",
              "      <th>posts</th>\n",
              "      <th>no. of. words</th>\n",
              "    </tr>\n",
              "  </thead>\n",
              "  <tbody>\n",
              "    <tr>\n",
              "      <th>0</th>\n",
              "      <td>INFJ</td>\n",
              "      <td>enfp  intj moments   sportscenter    plays...</td>\n",
              "      <td>430</td>\n",
              "    </tr>\n",
              "    <tr>\n",
              "      <th>1</th>\n",
              "      <td>ENTP</td>\n",
              "      <td>finding  lack    these posts very alarming eo...</td>\n",
              "      <td>803</td>\n",
              "    </tr>\n",
              "    <tr>\n",
              "      <th>2</th>\n",
              "      <td>INTP</td>\n",
              "      <td>good         course  which    know thats  bles...</td>\n",
              "      <td>253</td>\n",
              "    </tr>\n",
              "    <tr>\n",
              "      <th>3</th>\n",
              "      <td>INTJ</td>\n",
              "      <td>dear intp    enjoyed  conversation  other  eos...</td>\n",
              "      <td>777</td>\n",
              "    </tr>\n",
              "    <tr>\n",
              "      <th>4</th>\n",
              "      <td>ENTJ</td>\n",
              "      <td>youre fired eostokendot    thats another silly...</td>\n",
              "      <td>402</td>\n",
              "    </tr>\n",
              "  </tbody>\n",
              "</table>\n",
              "</div>\n",
              "      <button class=\"colab-df-convert\" onclick=\"convertToInteractive('df-cdb72654-9a2c-469d-95dc-d713f4dd755f')\"\n",
              "              title=\"Convert this dataframe to an interactive table.\"\n",
              "              style=\"display:none;\">\n",
              "        \n",
              "  <svg xmlns=\"http://www.w3.org/2000/svg\" height=\"24px\"viewBox=\"0 0 24 24\"\n",
              "       width=\"24px\">\n",
              "    <path d=\"M0 0h24v24H0V0z\" fill=\"none\"/>\n",
              "    <path d=\"M18.56 5.44l.94 2.06.94-2.06 2.06-.94-2.06-.94-.94-2.06-.94 2.06-2.06.94zm-11 1L8.5 8.5l.94-2.06 2.06-.94-2.06-.94L8.5 2.5l-.94 2.06-2.06.94zm10 10l.94 2.06.94-2.06 2.06-.94-2.06-.94-.94-2.06-.94 2.06-2.06.94z\"/><path d=\"M17.41 7.96l-1.37-1.37c-.4-.4-.92-.59-1.43-.59-.52 0-1.04.2-1.43.59L10.3 9.45l-7.72 7.72c-.78.78-.78 2.05 0 2.83L4 21.41c.39.39.9.59 1.41.59.51 0 1.02-.2 1.41-.59l7.78-7.78 2.81-2.81c.8-.78.8-2.07 0-2.86zM5.41 20L4 18.59l7.72-7.72 1.47 1.35L5.41 20z\"/>\n",
              "  </svg>\n",
              "      </button>\n",
              "      \n",
              "  <style>\n",
              "    .colab-df-container {\n",
              "      display:flex;\n",
              "      flex-wrap:wrap;\n",
              "      gap: 12px;\n",
              "    }\n",
              "\n",
              "    .colab-df-convert {\n",
              "      background-color: #E8F0FE;\n",
              "      border: none;\n",
              "      border-radius: 50%;\n",
              "      cursor: pointer;\n",
              "      display: none;\n",
              "      fill: #1967D2;\n",
              "      height: 32px;\n",
              "      padding: 0 0 0 0;\n",
              "      width: 32px;\n",
              "    }\n",
              "\n",
              "    .colab-df-convert:hover {\n",
              "      background-color: #E2EBFA;\n",
              "      box-shadow: 0px 1px 2px rgba(60, 64, 67, 0.3), 0px 1px 3px 1px rgba(60, 64, 67, 0.15);\n",
              "      fill: #174EA6;\n",
              "    }\n",
              "\n",
              "    [theme=dark] .colab-df-convert {\n",
              "      background-color: #3B4455;\n",
              "      fill: #D2E3FC;\n",
              "    }\n",
              "\n",
              "    [theme=dark] .colab-df-convert:hover {\n",
              "      background-color: #434B5C;\n",
              "      box-shadow: 0px 1px 3px 1px rgba(0, 0, 0, 0.15);\n",
              "      filter: drop-shadow(0px 1px 2px rgba(0, 0, 0, 0.3));\n",
              "      fill: #FFFFFF;\n",
              "    }\n",
              "  </style>\n",
              "\n",
              "      <script>\n",
              "        const buttonEl =\n",
              "          document.querySelector('#df-cdb72654-9a2c-469d-95dc-d713f4dd755f button.colab-df-convert');\n",
              "        buttonEl.style.display =\n",
              "          google.colab.kernel.accessAllowed ? 'block' : 'none';\n",
              "\n",
              "        async function convertToInteractive(key) {\n",
              "          const element = document.querySelector('#df-cdb72654-9a2c-469d-95dc-d713f4dd755f');\n",
              "          const dataTable =\n",
              "            await google.colab.kernel.invokeFunction('convertToInteractive',\n",
              "                                                     [key], {});\n",
              "          if (!dataTable) return;\n",
              "\n",
              "          const docLinkHtml = 'Like what you see? Visit the ' +\n",
              "            '<a target=\"_blank\" href=https://colab.research.google.com/notebooks/data_table.ipynb>data table notebook</a>'\n",
              "            + ' to learn more about interactive tables.';\n",
              "          element.innerHTML = '';\n",
              "          dataTable['output_type'] = 'display_data';\n",
              "          await google.colab.output.renderOutput(dataTable, element);\n",
              "          const docLink = document.createElement('div');\n",
              "          docLink.innerHTML = docLinkHtml;\n",
              "          element.appendChild(docLink);\n",
              "        }\n",
              "      </script>\n",
              "    </div>\n",
              "  </div>\n",
              "  "
            ]
          },
          "metadata": {},
          "execution_count": 13
        }
      ]
    },
    {
      "cell_type": "markdown",
      "source": [
        "## Splitting into X and Y feature"
      ],
      "metadata": {
        "id": "lVUGPcZJNn4p"
      }
    },
    {
      "cell_type": "code",
      "source": [
        "# Converting MBTI personality (or target or Y feature) into numerical form using Label Encoding\n",
        "# encoding personality type\n",
        "enc = LabelEncoder()\n",
        "new_df['type of encoding'] = enc.fit_transform(new_df['type'])\n",
        "\n",
        "target = new_df['type of encoding'] "
      ],
      "metadata": {
        "id": "_9DSu6AabrK-",
        "execution": {
          "iopub.status.busy": "2022-04-23T06:21:02.523709Z",
          "iopub.execute_input": "2022-04-23T06:21:02.524075Z",
          "iopub.status.idle": "2022-04-23T06:21:02.543874Z",
          "shell.execute_reply.started": "2022-04-23T06:21:02.524032Z",
          "shell.execute_reply": "2022-04-23T06:21:02.542670Z"
        },
        "trusted": true
      },
      "execution_count": 14,
      "outputs": []
    },
    {
      "cell_type": "code",
      "source": [
        "new_df.head(15)"
      ],
      "metadata": {
        "id": "VBFiyjk4brK_",
        "outputId": "868cf272-bb34-49bc-df6c-021c1191a5a0",
        "execution": {
          "iopub.status.busy": "2022-04-23T06:21:02.545640Z",
          "iopub.execute_input": "2022-04-23T06:21:02.546089Z",
          "iopub.status.idle": "2022-04-23T06:21:02.560961Z",
          "shell.execute_reply.started": "2022-04-23T06:21:02.546043Z",
          "shell.execute_reply": "2022-04-23T06:21:02.560009Z"
        },
        "trusted": true,
        "colab": {
          "base_uri": "https://localhost:8080/",
          "height": 520
        }
      },
      "execution_count": 15,
      "outputs": [
        {
          "output_type": "execute_result",
          "data": {
            "text/plain": [
              "    type                                              posts  no. of. words  \\\n",
              "0   INFJ      enfp  intj moments   sportscenter    plays...            430   \n",
              "1   ENTP   finding  lack    these posts very alarming eo...            803   \n",
              "2   INTP  good         course  which    know thats  bles...            253   \n",
              "3   INTJ  dear intp    enjoyed  conversation  other  eos...            777   \n",
              "4   ENTJ  youre fired eostokendot    thats another silly...            402   \n",
              "5   INTJ    eostokendot    science    perfect eostokendo...            245   \n",
              "6   INFJ    cant draw    nails haha eostokendot  those w...            970   \n",
              "7   INTJ   tend  build   collection  things   desktop th...            140   \n",
              "8   INFJ    sure thats  good question eostokendot   dist...            522   \n",
              "9   INTP      this position where  have  actually     pe...            130   \n",
              "10  INFJ   time  parents were fighting over  dads affair...           1072   \n",
              "11  ENFJ         went through  break  some months  eosto...            332   \n",
              "12  INFJ   santagato  entp   enfj   entp eostokenquest  ...            554   \n",
              "13  INTJ  fair enough  thats   want  look   eostokendot ...           1110   \n",
              "14  INTP  basically this eostokendot  eostokendot  eosto...            640   \n",
              "\n",
              "    type of encoding  \n",
              "0                  8  \n",
              "1                  3  \n",
              "2                 11  \n",
              "3                 10  \n",
              "4                  2  \n",
              "5                 10  \n",
              "6                  8  \n",
              "7                 10  \n",
              "8                  8  \n",
              "9                 11  \n",
              "10                 8  \n",
              "11                 0  \n",
              "12                 8  \n",
              "13                10  \n",
              "14                11  "
            ],
            "text/html": [
              "\n",
              "  <div id=\"df-4c1b2e3f-b3cf-4fea-b1be-df1370e62bfa\">\n",
              "    <div class=\"colab-df-container\">\n",
              "      <div>\n",
              "<style scoped>\n",
              "    .dataframe tbody tr th:only-of-type {\n",
              "        vertical-align: middle;\n",
              "    }\n",
              "\n",
              "    .dataframe tbody tr th {\n",
              "        vertical-align: top;\n",
              "    }\n",
              "\n",
              "    .dataframe thead th {\n",
              "        text-align: right;\n",
              "    }\n",
              "</style>\n",
              "<table border=\"1\" class=\"dataframe\">\n",
              "  <thead>\n",
              "    <tr style=\"text-align: right;\">\n",
              "      <th></th>\n",
              "      <th>type</th>\n",
              "      <th>posts</th>\n",
              "      <th>no. of. words</th>\n",
              "      <th>type of encoding</th>\n",
              "    </tr>\n",
              "  </thead>\n",
              "  <tbody>\n",
              "    <tr>\n",
              "      <th>0</th>\n",
              "      <td>INFJ</td>\n",
              "      <td>enfp  intj moments   sportscenter    plays...</td>\n",
              "      <td>430</td>\n",
              "      <td>8</td>\n",
              "    </tr>\n",
              "    <tr>\n",
              "      <th>1</th>\n",
              "      <td>ENTP</td>\n",
              "      <td>finding  lack    these posts very alarming eo...</td>\n",
              "      <td>803</td>\n",
              "      <td>3</td>\n",
              "    </tr>\n",
              "    <tr>\n",
              "      <th>2</th>\n",
              "      <td>INTP</td>\n",
              "      <td>good         course  which    know thats  bles...</td>\n",
              "      <td>253</td>\n",
              "      <td>11</td>\n",
              "    </tr>\n",
              "    <tr>\n",
              "      <th>3</th>\n",
              "      <td>INTJ</td>\n",
              "      <td>dear intp    enjoyed  conversation  other  eos...</td>\n",
              "      <td>777</td>\n",
              "      <td>10</td>\n",
              "    </tr>\n",
              "    <tr>\n",
              "      <th>4</th>\n",
              "      <td>ENTJ</td>\n",
              "      <td>youre fired eostokendot    thats another silly...</td>\n",
              "      <td>402</td>\n",
              "      <td>2</td>\n",
              "    </tr>\n",
              "    <tr>\n",
              "      <th>5</th>\n",
              "      <td>INTJ</td>\n",
              "      <td>eostokendot    science    perfect eostokendo...</td>\n",
              "      <td>245</td>\n",
              "      <td>10</td>\n",
              "    </tr>\n",
              "    <tr>\n",
              "      <th>6</th>\n",
              "      <td>INFJ</td>\n",
              "      <td>cant draw    nails haha eostokendot  those w...</td>\n",
              "      <td>970</td>\n",
              "      <td>8</td>\n",
              "    </tr>\n",
              "    <tr>\n",
              "      <th>7</th>\n",
              "      <td>INTJ</td>\n",
              "      <td>tend  build   collection  things   desktop th...</td>\n",
              "      <td>140</td>\n",
              "      <td>10</td>\n",
              "    </tr>\n",
              "    <tr>\n",
              "      <th>8</th>\n",
              "      <td>INFJ</td>\n",
              "      <td>sure thats  good question eostokendot   dist...</td>\n",
              "      <td>522</td>\n",
              "      <td>8</td>\n",
              "    </tr>\n",
              "    <tr>\n",
              "      <th>9</th>\n",
              "      <td>INTP</td>\n",
              "      <td>this position where  have  actually     pe...</td>\n",
              "      <td>130</td>\n",
              "      <td>11</td>\n",
              "    </tr>\n",
              "    <tr>\n",
              "      <th>10</th>\n",
              "      <td>INFJ</td>\n",
              "      <td>time  parents were fighting over  dads affair...</td>\n",
              "      <td>1072</td>\n",
              "      <td>8</td>\n",
              "    </tr>\n",
              "    <tr>\n",
              "      <th>11</th>\n",
              "      <td>ENFJ</td>\n",
              "      <td>went through  break  some months  eosto...</td>\n",
              "      <td>332</td>\n",
              "      <td>0</td>\n",
              "    </tr>\n",
              "    <tr>\n",
              "      <th>12</th>\n",
              "      <td>INFJ</td>\n",
              "      <td>santagato  entp   enfj   entp eostokenquest  ...</td>\n",
              "      <td>554</td>\n",
              "      <td>8</td>\n",
              "    </tr>\n",
              "    <tr>\n",
              "      <th>13</th>\n",
              "      <td>INTJ</td>\n",
              "      <td>fair enough  thats   want  look   eostokendot ...</td>\n",
              "      <td>1110</td>\n",
              "      <td>10</td>\n",
              "    </tr>\n",
              "    <tr>\n",
              "      <th>14</th>\n",
              "      <td>INTP</td>\n",
              "      <td>basically this eostokendot  eostokendot  eosto...</td>\n",
              "      <td>640</td>\n",
              "      <td>11</td>\n",
              "    </tr>\n",
              "  </tbody>\n",
              "</table>\n",
              "</div>\n",
              "      <button class=\"colab-df-convert\" onclick=\"convertToInteractive('df-4c1b2e3f-b3cf-4fea-b1be-df1370e62bfa')\"\n",
              "              title=\"Convert this dataframe to an interactive table.\"\n",
              "              style=\"display:none;\">\n",
              "        \n",
              "  <svg xmlns=\"http://www.w3.org/2000/svg\" height=\"24px\"viewBox=\"0 0 24 24\"\n",
              "       width=\"24px\">\n",
              "    <path d=\"M0 0h24v24H0V0z\" fill=\"none\"/>\n",
              "    <path d=\"M18.56 5.44l.94 2.06.94-2.06 2.06-.94-2.06-.94-.94-2.06-.94 2.06-2.06.94zm-11 1L8.5 8.5l.94-2.06 2.06-.94-2.06-.94L8.5 2.5l-.94 2.06-2.06.94zm10 10l.94 2.06.94-2.06 2.06-.94-2.06-.94-.94-2.06-.94 2.06-2.06.94z\"/><path d=\"M17.41 7.96l-1.37-1.37c-.4-.4-.92-.59-1.43-.59-.52 0-1.04.2-1.43.59L10.3 9.45l-7.72 7.72c-.78.78-.78 2.05 0 2.83L4 21.41c.39.39.9.59 1.41.59.51 0 1.02-.2 1.41-.59l7.78-7.78 2.81-2.81c.8-.78.8-2.07 0-2.86zM5.41 20L4 18.59l7.72-7.72 1.47 1.35L5.41 20z\"/>\n",
              "  </svg>\n",
              "      </button>\n",
              "      \n",
              "  <style>\n",
              "    .colab-df-container {\n",
              "      display:flex;\n",
              "      flex-wrap:wrap;\n",
              "      gap: 12px;\n",
              "    }\n",
              "\n",
              "    .colab-df-convert {\n",
              "      background-color: #E8F0FE;\n",
              "      border: none;\n",
              "      border-radius: 50%;\n",
              "      cursor: pointer;\n",
              "      display: none;\n",
              "      fill: #1967D2;\n",
              "      height: 32px;\n",
              "      padding: 0 0 0 0;\n",
              "      width: 32px;\n",
              "    }\n",
              "\n",
              "    .colab-df-convert:hover {\n",
              "      background-color: #E2EBFA;\n",
              "      box-shadow: 0px 1px 2px rgba(60, 64, 67, 0.3), 0px 1px 3px 1px rgba(60, 64, 67, 0.15);\n",
              "      fill: #174EA6;\n",
              "    }\n",
              "\n",
              "    [theme=dark] .colab-df-convert {\n",
              "      background-color: #3B4455;\n",
              "      fill: #D2E3FC;\n",
              "    }\n",
              "\n",
              "    [theme=dark] .colab-df-convert:hover {\n",
              "      background-color: #434B5C;\n",
              "      box-shadow: 0px 1px 3px 1px rgba(0, 0, 0, 0.15);\n",
              "      filter: drop-shadow(0px 1px 2px rgba(0, 0, 0, 0.3));\n",
              "      fill: #FFFFFF;\n",
              "    }\n",
              "  </style>\n",
              "\n",
              "      <script>\n",
              "        const buttonEl =\n",
              "          document.querySelector('#df-4c1b2e3f-b3cf-4fea-b1be-df1370e62bfa button.colab-df-convert');\n",
              "        buttonEl.style.display =\n",
              "          google.colab.kernel.accessAllowed ? 'block' : 'none';\n",
              "\n",
              "        async function convertToInteractive(key) {\n",
              "          const element = document.querySelector('#df-4c1b2e3f-b3cf-4fea-b1be-df1370e62bfa');\n",
              "          const dataTable =\n",
              "            await google.colab.kernel.invokeFunction('convertToInteractive',\n",
              "                                                     [key], {});\n",
              "          if (!dataTable) return;\n",
              "\n",
              "          const docLinkHtml = 'Like what you see? Visit the ' +\n",
              "            '<a target=\"_blank\" href=https://colab.research.google.com/notebooks/data_table.ipynb>data table notebook</a>'\n",
              "            + ' to learn more about interactive tables.';\n",
              "          element.innerHTML = '';\n",
              "          dataTable['output_type'] = 'display_data';\n",
              "          await google.colab.output.renderOutput(dataTable, element);\n",
              "          const docLink = document.createElement('div');\n",
              "          docLink.innerHTML = docLinkHtml;\n",
              "          element.appendChild(docLink);\n",
              "        }\n",
              "      </script>\n",
              "    </div>\n",
              "  </div>\n",
              "  "
            ]
          },
          "metadata": {},
          "execution_count": 15
        }
      ]
    },
    {
      "cell_type": "code",
      "source": [
        "!python -m nltk.downloader stopwords"
      ],
      "metadata": {
        "colab": {
          "base_uri": "https://localhost:8080/"
        },
        "id": "PqCwbhLbwYo5",
        "outputId": "95fd312b-f86a-4ee6-b436-cd33dd17c58d"
      },
      "execution_count": 16,
      "outputs": [
        {
          "output_type": "stream",
          "name": "stdout",
          "text": [
            "/usr/lib/python3.7/runpy.py:125: RuntimeWarning: 'nltk.downloader' found in sys.modules after import of package 'nltk', but prior to execution of 'nltk.downloader'; this may result in unpredictable behaviour\n",
            "  warn(RuntimeWarning(msg))\n",
            "[nltk_data] Downloading package stopwords to /root/nltk_data...\n",
            "[nltk_data]   Package stopwords is already up-to-date!\n"
          ]
        }
      ]
    },
    {
      "cell_type": "code",
      "source": [
        "# The python natural language toolkit library provides a list of english stop words.\n",
        "print(stopwords.words('english'))"
      ],
      "metadata": {
        "id": "CFdvkHMBpDrr",
        "outputId": "c8b6b2f4-39b7-46e7-c809-45cc60451244",
        "execution": {
          "iopub.status.busy": "2022-04-23T06:21:02.562384Z",
          "iopub.execute_input": "2022-04-23T06:21:02.562692Z",
          "iopub.status.idle": "2022-04-23T06:21:02.575813Z",
          "shell.execute_reply.started": "2022-04-23T06:21:02.562661Z",
          "shell.execute_reply": "2022-04-23T06:21:02.574698Z"
        },
        "trusted": true,
        "colab": {
          "base_uri": "https://localhost:8080/"
        }
      },
      "execution_count": 17,
      "outputs": [
        {
          "output_type": "stream",
          "name": "stdout",
          "text": [
            "['i', 'me', 'my', 'myself', 'we', 'our', 'ours', 'ourselves', 'you', \"you're\", \"you've\", \"you'll\", \"you'd\", 'your', 'yours', 'yourself', 'yourselves', 'he', 'him', 'his', 'himself', 'she', \"she's\", 'her', 'hers', 'herself', 'it', \"it's\", 'its', 'itself', 'they', 'them', 'their', 'theirs', 'themselves', 'what', 'which', 'who', 'whom', 'this', 'that', \"that'll\", 'these', 'those', 'am', 'is', 'are', 'was', 'were', 'be', 'been', 'being', 'have', 'has', 'had', 'having', 'do', 'does', 'did', 'doing', 'a', 'an', 'the', 'and', 'but', 'if', 'or', 'because', 'as', 'until', 'while', 'of', 'at', 'by', 'for', 'with', 'about', 'against', 'between', 'into', 'through', 'during', 'before', 'after', 'above', 'below', 'to', 'from', 'up', 'down', 'in', 'out', 'on', 'off', 'over', 'under', 'again', 'further', 'then', 'once', 'here', 'there', 'when', 'where', 'why', 'how', 'all', 'any', 'both', 'each', 'few', 'more', 'most', 'other', 'some', 'such', 'no', 'nor', 'not', 'only', 'own', 'same', 'so', 'than', 'too', 'very', 's', 't', 'can', 'will', 'just', 'don', \"don't\", 'should', \"should've\", 'now', 'd', 'll', 'm', 'o', 're', 've', 'y', 'ain', 'aren', \"aren't\", 'couldn', \"couldn't\", 'didn', \"didn't\", 'doesn', \"doesn't\", 'hadn', \"hadn't\", 'hasn', \"hasn't\", 'haven', \"haven't\", 'isn', \"isn't\", 'ma', 'mightn', \"mightn't\", 'mustn', \"mustn't\", 'needn', \"needn't\", 'shan', \"shan't\", 'shouldn', \"shouldn't\", 'wasn', \"wasn't\", 'weren', \"weren't\", 'won', \"won't\", 'wouldn', \"wouldn't\"]\n"
          ]
        }
      ]
    },
    {
      "cell_type": "code",
      "source": [
        "# Vectorizing the posts for the model and filtering Stop-words\n",
        "vect = CountVectorizer(stop_words='english') \n",
        "\n",
        "# Converting posts (or training or X feature) into numerical form by count vectorization\n",
        "train =  vect.fit_transform(new_df[\"posts\"])"
      ],
      "metadata": {
        "id": "fVfBD1qtbrLB",
        "execution": {
          "iopub.status.busy": "2022-04-23T06:21:02.577185Z",
          "iopub.execute_input": "2022-04-23T06:21:02.577492Z",
          "iopub.status.idle": "2022-04-23T06:21:09.467440Z",
          "shell.execute_reply.started": "2022-04-23T06:21:02.577463Z",
          "shell.execute_reply": "2022-04-23T06:21:09.466395Z"
        },
        "trusted": true
      },
      "execution_count": 18,
      "outputs": []
    },
    {
      "cell_type": "code",
      "source": [
        "train.shape"
      ],
      "metadata": {
        "id": "odAs2pbQbrLB",
        "outputId": "13c083e8-c5c9-4b95-fe40-9431cff4c6d7",
        "execution": {
          "iopub.status.busy": "2022-04-23T06:21:09.469080Z",
          "iopub.execute_input": "2022-04-23T06:21:09.469501Z",
          "iopub.status.idle": "2022-04-23T06:21:09.476377Z",
          "shell.execute_reply.started": "2022-04-23T06:21:09.469455Z",
          "shell.execute_reply": "2022-04-23T06:21:09.475179Z"
        },
        "trusted": true,
        "colab": {
          "base_uri": "https://localhost:8080/"
        }
      },
      "execution_count": 19,
      "outputs": [
        {
          "output_type": "execute_result",
          "data": {
            "text/plain": [
              "(8466, 98555)"
            ]
          },
          "metadata": {},
          "execution_count": 19
        }
      ]
    },
    {
      "cell_type": "markdown",
      "source": [
        "# Four Classifiers across MBTI axis"
      ],
      "metadata": {
        "id": "N6uVuHxQdg8z"
      }
    },
    {
      "cell_type": "code",
      "source": [
        "data = pd.read_csv(\"mbti_1.csv\")\n",
        "data"
      ],
      "metadata": {
        "id": "7qCZmiXozoz9",
        "outputId": "78d3d670-5979-45c1-f758-29c233cabcd3",
        "execution": {
          "iopub.status.busy": "2022-04-23T06:21:09.477759Z",
          "iopub.execute_input": "2022-04-23T06:21:09.478129Z",
          "iopub.status.idle": "2022-04-23T06:21:10.291458Z",
          "shell.execute_reply.started": "2022-04-23T06:21:09.478090Z",
          "shell.execute_reply": "2022-04-23T06:21:10.290457Z"
        },
        "trusted": true,
        "colab": {
          "base_uri": "https://localhost:8080/",
          "height": 423
        }
      },
      "execution_count": 20,
      "outputs": [
        {
          "output_type": "execute_result",
          "data": {
            "text/plain": [
              "      type                                              posts\n",
              "0     INFJ  'http://www.youtube.com/watch?v=qsXHcwe3krw|||...\n",
              "1     ENTP  'I'm finding the lack of me in these posts ver...\n",
              "2     INTP  'Good one  _____   https://www.youtube.com/wat...\n",
              "3     INTJ  'Dear INTP,   I enjoyed our conversation the o...\n",
              "4     ENTJ  'You're fired.|||That's another silly misconce...\n",
              "...    ...                                                ...\n",
              "8670  ISFP  'https://www.youtube.com/watch?v=t8edHB_h908||...\n",
              "8671  ENFP  'So...if this thread already exists someplace ...\n",
              "8672  INTP  'So many questions when i do these things.  I ...\n",
              "8673  INFP  'I am very conflicted right now when it comes ...\n",
              "8674  INFP  'It has been too long since I have been on per...\n",
              "\n",
              "[8675 rows x 2 columns]"
            ],
            "text/html": [
              "\n",
              "  <div id=\"df-63d717ad-b24c-44ea-b180-e0b9488bc0de\">\n",
              "    <div class=\"colab-df-container\">\n",
              "      <div>\n",
              "<style scoped>\n",
              "    .dataframe tbody tr th:only-of-type {\n",
              "        vertical-align: middle;\n",
              "    }\n",
              "\n",
              "    .dataframe tbody tr th {\n",
              "        vertical-align: top;\n",
              "    }\n",
              "\n",
              "    .dataframe thead th {\n",
              "        text-align: right;\n",
              "    }\n",
              "</style>\n",
              "<table border=\"1\" class=\"dataframe\">\n",
              "  <thead>\n",
              "    <tr style=\"text-align: right;\">\n",
              "      <th></th>\n",
              "      <th>type</th>\n",
              "      <th>posts</th>\n",
              "    </tr>\n",
              "  </thead>\n",
              "  <tbody>\n",
              "    <tr>\n",
              "      <th>0</th>\n",
              "      <td>INFJ</td>\n",
              "      <td>'http://www.youtube.com/watch?v=qsXHcwe3krw|||...</td>\n",
              "    </tr>\n",
              "    <tr>\n",
              "      <th>1</th>\n",
              "      <td>ENTP</td>\n",
              "      <td>'I'm finding the lack of me in these posts ver...</td>\n",
              "    </tr>\n",
              "    <tr>\n",
              "      <th>2</th>\n",
              "      <td>INTP</td>\n",
              "      <td>'Good one  _____   https://www.youtube.com/wat...</td>\n",
              "    </tr>\n",
              "    <tr>\n",
              "      <th>3</th>\n",
              "      <td>INTJ</td>\n",
              "      <td>'Dear INTP,   I enjoyed our conversation the o...</td>\n",
              "    </tr>\n",
              "    <tr>\n",
              "      <th>4</th>\n",
              "      <td>ENTJ</td>\n",
              "      <td>'You're fired.|||That's another silly misconce...</td>\n",
              "    </tr>\n",
              "    <tr>\n",
              "      <th>...</th>\n",
              "      <td>...</td>\n",
              "      <td>...</td>\n",
              "    </tr>\n",
              "    <tr>\n",
              "      <th>8670</th>\n",
              "      <td>ISFP</td>\n",
              "      <td>'https://www.youtube.com/watch?v=t8edHB_h908||...</td>\n",
              "    </tr>\n",
              "    <tr>\n",
              "      <th>8671</th>\n",
              "      <td>ENFP</td>\n",
              "      <td>'So...if this thread already exists someplace ...</td>\n",
              "    </tr>\n",
              "    <tr>\n",
              "      <th>8672</th>\n",
              "      <td>INTP</td>\n",
              "      <td>'So many questions when i do these things.  I ...</td>\n",
              "    </tr>\n",
              "    <tr>\n",
              "      <th>8673</th>\n",
              "      <td>INFP</td>\n",
              "      <td>'I am very conflicted right now when it comes ...</td>\n",
              "    </tr>\n",
              "    <tr>\n",
              "      <th>8674</th>\n",
              "      <td>INFP</td>\n",
              "      <td>'It has been too long since I have been on per...</td>\n",
              "    </tr>\n",
              "  </tbody>\n",
              "</table>\n",
              "<p>8675 rows × 2 columns</p>\n",
              "</div>\n",
              "      <button class=\"colab-df-convert\" onclick=\"convertToInteractive('df-63d717ad-b24c-44ea-b180-e0b9488bc0de')\"\n",
              "              title=\"Convert this dataframe to an interactive table.\"\n",
              "              style=\"display:none;\">\n",
              "        \n",
              "  <svg xmlns=\"http://www.w3.org/2000/svg\" height=\"24px\"viewBox=\"0 0 24 24\"\n",
              "       width=\"24px\">\n",
              "    <path d=\"M0 0h24v24H0V0z\" fill=\"none\"/>\n",
              "    <path d=\"M18.56 5.44l.94 2.06.94-2.06 2.06-.94-2.06-.94-.94-2.06-.94 2.06-2.06.94zm-11 1L8.5 8.5l.94-2.06 2.06-.94-2.06-.94L8.5 2.5l-.94 2.06-2.06.94zm10 10l.94 2.06.94-2.06 2.06-.94-2.06-.94-.94-2.06-.94 2.06-2.06.94z\"/><path d=\"M17.41 7.96l-1.37-1.37c-.4-.4-.92-.59-1.43-.59-.52 0-1.04.2-1.43.59L10.3 9.45l-7.72 7.72c-.78.78-.78 2.05 0 2.83L4 21.41c.39.39.9.59 1.41.59.51 0 1.02-.2 1.41-.59l7.78-7.78 2.81-2.81c.8-.78.8-2.07 0-2.86zM5.41 20L4 18.59l7.72-7.72 1.47 1.35L5.41 20z\"/>\n",
              "  </svg>\n",
              "      </button>\n",
              "      \n",
              "  <style>\n",
              "    .colab-df-container {\n",
              "      display:flex;\n",
              "      flex-wrap:wrap;\n",
              "      gap: 12px;\n",
              "    }\n",
              "\n",
              "    .colab-df-convert {\n",
              "      background-color: #E8F0FE;\n",
              "      border: none;\n",
              "      border-radius: 50%;\n",
              "      cursor: pointer;\n",
              "      display: none;\n",
              "      fill: #1967D2;\n",
              "      height: 32px;\n",
              "      padding: 0 0 0 0;\n",
              "      width: 32px;\n",
              "    }\n",
              "\n",
              "    .colab-df-convert:hover {\n",
              "      background-color: #E2EBFA;\n",
              "      box-shadow: 0px 1px 2px rgba(60, 64, 67, 0.3), 0px 1px 3px 1px rgba(60, 64, 67, 0.15);\n",
              "      fill: #174EA6;\n",
              "    }\n",
              "\n",
              "    [theme=dark] .colab-df-convert {\n",
              "      background-color: #3B4455;\n",
              "      fill: #D2E3FC;\n",
              "    }\n",
              "\n",
              "    [theme=dark] .colab-df-convert:hover {\n",
              "      background-color: #434B5C;\n",
              "      box-shadow: 0px 1px 3px 1px rgba(0, 0, 0, 0.15);\n",
              "      filter: drop-shadow(0px 1px 2px rgba(0, 0, 0, 0.3));\n",
              "      fill: #FFFFFF;\n",
              "    }\n",
              "  </style>\n",
              "\n",
              "      <script>\n",
              "        const buttonEl =\n",
              "          document.querySelector('#df-63d717ad-b24c-44ea-b180-e0b9488bc0de button.colab-df-convert');\n",
              "        buttonEl.style.display =\n",
              "          google.colab.kernel.accessAllowed ? 'block' : 'none';\n",
              "\n",
              "        async function convertToInteractive(key) {\n",
              "          const element = document.querySelector('#df-63d717ad-b24c-44ea-b180-e0b9488bc0de');\n",
              "          const dataTable =\n",
              "            await google.colab.kernel.invokeFunction('convertToInteractive',\n",
              "                                                     [key], {});\n",
              "          if (!dataTable) return;\n",
              "\n",
              "          const docLinkHtml = 'Like what you see? Visit the ' +\n",
              "            '<a target=\"_blank\" href=https://colab.research.google.com/notebooks/data_table.ipynb>data table notebook</a>'\n",
              "            + ' to learn more about interactive tables.';\n",
              "          element.innerHTML = '';\n",
              "          dataTable['output_type'] = 'display_data';\n",
              "          await google.colab.output.renderOutput(dataTable, element);\n",
              "          const docLink = document.createElement('div');\n",
              "          docLink.innerHTML = docLinkHtml;\n",
              "          element.appendChild(docLink);\n",
              "        }\n",
              "      </script>\n",
              "    </div>\n",
              "  </div>\n",
              "  "
            ]
          },
          "metadata": {},
          "execution_count": 20
        }
      ]
    },
    {
      "cell_type": "code",
      "source": [
        "def get_types(row):\n",
        "    t=row['type']\n",
        "\n",
        "    I = 0; N = 0\n",
        "    T = 0; J = 0\n",
        "    \n",
        "    if t[0] == 'I': I = 1\n",
        "    elif t[0] == 'E': I = 0\n",
        "    else: print('I-E not found') \n",
        "        \n",
        "    if t[1] == 'N': N = 1\n",
        "    elif t[1] == 'S': N = 0\n",
        "    else: print('N-S not found')\n",
        "        \n",
        "    if t[2] == 'T': T = 1\n",
        "    elif t[2] == 'F': T = 0\n",
        "    else: print('T-F not found')\n",
        "        \n",
        "    if t[3] == 'J': J = 1\n",
        "    elif t[3] == 'P': J = 0\n",
        "    else: print('J-P not found')\n",
        "    return pd.Series( {'IE':I, 'NS':N , 'TF': T, 'JP': J }) \n",
        "\n",
        "data = data.join(data.apply (lambda row: get_types (row),axis=1))\n",
        "data.head(5)"
      ],
      "metadata": {
        "id": "CGLvGfPJ446Z",
        "outputId": "6b4b69f2-869d-465c-a56f-324ddd058eda",
        "execution": {
          "iopub.status.busy": "2022-04-23T06:21:10.292860Z",
          "iopub.execute_input": "2022-04-23T06:21:10.293189Z",
          "iopub.status.idle": "2022-04-23T06:21:14.270322Z",
          "shell.execute_reply.started": "2022-04-23T06:21:10.293160Z",
          "shell.execute_reply": "2022-04-23T06:21:14.269267Z"
        },
        "trusted": true,
        "colab": {
          "base_uri": "https://localhost:8080/",
          "height": 206
        }
      },
      "execution_count": 21,
      "outputs": [
        {
          "output_type": "execute_result",
          "data": {
            "text/plain": [
              "   type                                              posts  IE  NS  TF  JP\n",
              "0  INFJ  'http://www.youtube.com/watch?v=qsXHcwe3krw|||...   1   1   0   1\n",
              "1  ENTP  'I'm finding the lack of me in these posts ver...   0   1   1   0\n",
              "2  INTP  'Good one  _____   https://www.youtube.com/wat...   1   1   1   0\n",
              "3  INTJ  'Dear INTP,   I enjoyed our conversation the o...   1   1   1   1\n",
              "4  ENTJ  'You're fired.|||That's another silly misconce...   0   1   1   1"
            ],
            "text/html": [
              "\n",
              "  <div id=\"df-c1ded798-d2ae-4f92-b81c-d3eea94f1e32\">\n",
              "    <div class=\"colab-df-container\">\n",
              "      <div>\n",
              "<style scoped>\n",
              "    .dataframe tbody tr th:only-of-type {\n",
              "        vertical-align: middle;\n",
              "    }\n",
              "\n",
              "    .dataframe tbody tr th {\n",
              "        vertical-align: top;\n",
              "    }\n",
              "\n",
              "    .dataframe thead th {\n",
              "        text-align: right;\n",
              "    }\n",
              "</style>\n",
              "<table border=\"1\" class=\"dataframe\">\n",
              "  <thead>\n",
              "    <tr style=\"text-align: right;\">\n",
              "      <th></th>\n",
              "      <th>type</th>\n",
              "      <th>posts</th>\n",
              "      <th>IE</th>\n",
              "      <th>NS</th>\n",
              "      <th>TF</th>\n",
              "      <th>JP</th>\n",
              "    </tr>\n",
              "  </thead>\n",
              "  <tbody>\n",
              "    <tr>\n",
              "      <th>0</th>\n",
              "      <td>INFJ</td>\n",
              "      <td>'http://www.youtube.com/watch?v=qsXHcwe3krw|||...</td>\n",
              "      <td>1</td>\n",
              "      <td>1</td>\n",
              "      <td>0</td>\n",
              "      <td>1</td>\n",
              "    </tr>\n",
              "    <tr>\n",
              "      <th>1</th>\n",
              "      <td>ENTP</td>\n",
              "      <td>'I'm finding the lack of me in these posts ver...</td>\n",
              "      <td>0</td>\n",
              "      <td>1</td>\n",
              "      <td>1</td>\n",
              "      <td>0</td>\n",
              "    </tr>\n",
              "    <tr>\n",
              "      <th>2</th>\n",
              "      <td>INTP</td>\n",
              "      <td>'Good one  _____   https://www.youtube.com/wat...</td>\n",
              "      <td>1</td>\n",
              "      <td>1</td>\n",
              "      <td>1</td>\n",
              "      <td>0</td>\n",
              "    </tr>\n",
              "    <tr>\n",
              "      <th>3</th>\n",
              "      <td>INTJ</td>\n",
              "      <td>'Dear INTP,   I enjoyed our conversation the o...</td>\n",
              "      <td>1</td>\n",
              "      <td>1</td>\n",
              "      <td>1</td>\n",
              "      <td>1</td>\n",
              "    </tr>\n",
              "    <tr>\n",
              "      <th>4</th>\n",
              "      <td>ENTJ</td>\n",
              "      <td>'You're fired.|||That's another silly misconce...</td>\n",
              "      <td>0</td>\n",
              "      <td>1</td>\n",
              "      <td>1</td>\n",
              "      <td>1</td>\n",
              "    </tr>\n",
              "  </tbody>\n",
              "</table>\n",
              "</div>\n",
              "      <button class=\"colab-df-convert\" onclick=\"convertToInteractive('df-c1ded798-d2ae-4f92-b81c-d3eea94f1e32')\"\n",
              "              title=\"Convert this dataframe to an interactive table.\"\n",
              "              style=\"display:none;\">\n",
              "        \n",
              "  <svg xmlns=\"http://www.w3.org/2000/svg\" height=\"24px\"viewBox=\"0 0 24 24\"\n",
              "       width=\"24px\">\n",
              "    <path d=\"M0 0h24v24H0V0z\" fill=\"none\"/>\n",
              "    <path d=\"M18.56 5.44l.94 2.06.94-2.06 2.06-.94-2.06-.94-.94-2.06-.94 2.06-2.06.94zm-11 1L8.5 8.5l.94-2.06 2.06-.94-2.06-.94L8.5 2.5l-.94 2.06-2.06.94zm10 10l.94 2.06.94-2.06 2.06-.94-2.06-.94-.94-2.06-.94 2.06-2.06.94z\"/><path d=\"M17.41 7.96l-1.37-1.37c-.4-.4-.92-.59-1.43-.59-.52 0-1.04.2-1.43.59L10.3 9.45l-7.72 7.72c-.78.78-.78 2.05 0 2.83L4 21.41c.39.39.9.59 1.41.59.51 0 1.02-.2 1.41-.59l7.78-7.78 2.81-2.81c.8-.78.8-2.07 0-2.86zM5.41 20L4 18.59l7.72-7.72 1.47 1.35L5.41 20z\"/>\n",
              "  </svg>\n",
              "      </button>\n",
              "      \n",
              "  <style>\n",
              "    .colab-df-container {\n",
              "      display:flex;\n",
              "      flex-wrap:wrap;\n",
              "      gap: 12px;\n",
              "    }\n",
              "\n",
              "    .colab-df-convert {\n",
              "      background-color: #E8F0FE;\n",
              "      border: none;\n",
              "      border-radius: 50%;\n",
              "      cursor: pointer;\n",
              "      display: none;\n",
              "      fill: #1967D2;\n",
              "      height: 32px;\n",
              "      padding: 0 0 0 0;\n",
              "      width: 32px;\n",
              "    }\n",
              "\n",
              "    .colab-df-convert:hover {\n",
              "      background-color: #E2EBFA;\n",
              "      box-shadow: 0px 1px 2px rgba(60, 64, 67, 0.3), 0px 1px 3px 1px rgba(60, 64, 67, 0.15);\n",
              "      fill: #174EA6;\n",
              "    }\n",
              "\n",
              "    [theme=dark] .colab-df-convert {\n",
              "      background-color: #3B4455;\n",
              "      fill: #D2E3FC;\n",
              "    }\n",
              "\n",
              "    [theme=dark] .colab-df-convert:hover {\n",
              "      background-color: #434B5C;\n",
              "      box-shadow: 0px 1px 3px 1px rgba(0, 0, 0, 0.15);\n",
              "      filter: drop-shadow(0px 1px 2px rgba(0, 0, 0, 0.3));\n",
              "      fill: #FFFFFF;\n",
              "    }\n",
              "  </style>\n",
              "\n",
              "      <script>\n",
              "        const buttonEl =\n",
              "          document.querySelector('#df-c1ded798-d2ae-4f92-b81c-d3eea94f1e32 button.colab-df-convert');\n",
              "        buttonEl.style.display =\n",
              "          google.colab.kernel.accessAllowed ? 'block' : 'none';\n",
              "\n",
              "        async function convertToInteractive(key) {\n",
              "          const element = document.querySelector('#df-c1ded798-d2ae-4f92-b81c-d3eea94f1e32');\n",
              "          const dataTable =\n",
              "            await google.colab.kernel.invokeFunction('convertToInteractive',\n",
              "                                                     [key], {});\n",
              "          if (!dataTable) return;\n",
              "\n",
              "          const docLinkHtml = 'Like what you see? Visit the ' +\n",
              "            '<a target=\"_blank\" href=https://colab.research.google.com/notebooks/data_table.ipynb>data table notebook</a>'\n",
              "            + ' to learn more about interactive tables.';\n",
              "          element.innerHTML = '';\n",
              "          dataTable['output_type'] = 'display_data';\n",
              "          await google.colab.output.renderOutput(dataTable, element);\n",
              "          const docLink = document.createElement('div');\n",
              "          docLink.innerHTML = docLinkHtml;\n",
              "          element.appendChild(docLink);\n",
              "        }\n",
              "      </script>\n",
              "    </div>\n",
              "  </div>\n",
              "  "
            ]
          },
          "metadata": {},
          "execution_count": 21
        }
      ]
    },
    {
      "cell_type": "code",
      "source": [
        "print (\"Introversion (I) /  Extroversion (E):\\t\", data['IE'].value_counts()[0], \" / \", data['IE'].value_counts()[1])\n",
        "print (\"Intuition (N) / Sensing (S):\\t\\t\", data['NS'].value_counts()[0], \" / \", data['NS'].value_counts()[1])\n",
        "print (\"Thinking (T) / Feeling (F):\\t\\t\", data['TF'].value_counts()[0], \" / \", data['TF'].value_counts()[1])\n",
        "print (\"Judging (J) / Perceiving (P):\\t\\t\", data['JP'].value_counts()[0], \" / \", data['JP'].value_counts()[1])"
      ],
      "metadata": {
        "id": "n8dwN_8l5Aw7",
        "outputId": "ad1f2d62-d873-4283-f11d-7eb5f9b69c25",
        "execution": {
          "iopub.status.busy": "2022-04-23T06:21:14.271621Z",
          "iopub.execute_input": "2022-04-23T06:21:14.271924Z",
          "iopub.status.idle": "2022-04-23T06:21:14.291295Z",
          "shell.execute_reply.started": "2022-04-23T06:21:14.271894Z",
          "shell.execute_reply": "2022-04-23T06:21:14.290221Z"
        },
        "trusted": true,
        "colab": {
          "base_uri": "https://localhost:8080/"
        }
      },
      "execution_count": 22,
      "outputs": [
        {
          "output_type": "stream",
          "name": "stdout",
          "text": [
            "Introversion (I) /  Extroversion (E):\t 1999  /  6676\n",
            "Intuition (N) / Sensing (S):\t\t 1197  /  7478\n",
            "Thinking (T) / Feeling (F):\t\t 4694  /  3981\n",
            "Judging (J) / Perceiving (P):\t\t 5241  /  3434\n"
          ]
        }
      ]
    },
    {
      "cell_type": "code",
      "source": [
        "#Plotting the distribution of each personality type indicator\n",
        "N = 4\n",
        "bottom = (data['IE'].value_counts()[0], data['NS'].value_counts()[0], data['TF'].value_counts()[0], data['JP'].value_counts()[0])\n",
        "top = (data['IE'].value_counts()[1], data['NS'].value_counts()[1], data['TF'].value_counts()[1], data['JP'].value_counts()[1])\n",
        "\n",
        "ind = np.arange(N)    # the x locations for the groups\n",
        "# the width of the bars\n",
        "width = 0.7           # or len(x) can also be used here\n",
        "\n",
        "p1 = plt.bar(ind, bottom, width, label=\"I, N, T, F\")\n",
        "p2 = plt.bar(ind, top, width, bottom=bottom, label=\"E, S, F, P\") \n",
        "\n",
        "plt.title('Distribution accoss types indicators')\n",
        "plt.ylabel('Count')\n",
        "plt.xticks(ind, ('I / E',  'N / S', 'T / F', 'J / P',))\n",
        "plt.legend()\n",
        "\n",
        "plt.show()"
      ],
      "metadata": {
        "id": "c7uvsPnQ6beY",
        "outputId": "f5083fd3-2102-4fea-deb3-7482b3c0d3a9",
        "execution": {
          "iopub.status.busy": "2022-04-23T06:21:14.292665Z",
          "iopub.execute_input": "2022-04-23T06:21:14.293055Z",
          "iopub.status.idle": "2022-04-23T06:21:14.465509Z",
          "shell.execute_reply.started": "2022-04-23T06:21:14.293021Z",
          "shell.execute_reply": "2022-04-23T06:21:14.464561Z"
        },
        "trusted": true,
        "colab": {
          "base_uri": "https://localhost:8080/",
          "height": 281
        }
      },
      "execution_count": 23,
      "outputs": [
        {
          "output_type": "display_data",
          "data": {
            "text/plain": [
              "<Figure size 432x288 with 1 Axes>"
            ],
            "image/png": "[encoded data removed]"
          },
          "metadata": {
            "needs_background": "light"
          }
        }
      ]
    },
    {
      "cell_type": "markdown",
      "source": [
        "**Features Correlation Analysis**"
      ],
      "metadata": {
        "id": "uL0ie9vmF0oC"
      }
    },
    {
      "cell_type": "code",
      "source": [
        "data[['IE','NS','TF','JP']].corr()"
      ],
      "metadata": {
        "id": "5ElGcbm_6gCW",
        "outputId": "d4a538e5-6927-4f73-a68b-a0c53cdeab62",
        "execution": {
          "iopub.status.busy": "2022-04-23T06:21:14.466857Z",
          "iopub.execute_input": "2022-04-23T06:21:14.467185Z",
          "iopub.status.idle": "2022-04-23T06:21:14.486351Z",
          "shell.execute_reply.started": "2022-04-23T06:21:14.467153Z",
          "shell.execute_reply": "2022-04-23T06:21:14.484895Z"
        },
        "trusted": true,
        "colab": {
          "base_uri": "https://localhost:8080/",
          "height": 175
        }
      },
      "execution_count": 24,
      "outputs": [
        {
          "output_type": "execute_result",
          "data": {
            "text/plain": [
              "          IE        NS        TF        JP\n",
              "IE  1.000000 -0.045899 -0.069573  0.161939\n",
              "NS -0.045899  1.000000 -0.080954  0.014922\n",
              "TF -0.069573 -0.080954  1.000000 -0.004673\n",
              "JP  0.161939  0.014922 -0.004673  1.000000"
            ],
            "text/html": [
              "\n",
              "  <div id=\"df-e2b801d0-c25c-46e2-9661-fedb81538e65\">\n",
              "    <div class=\"colab-df-container\">\n",
              "      <div>\n",
              "<style scoped>\n",
              "    .dataframe tbody tr th:only-of-type {\n",
              "        vertical-align: middle;\n",
              "    }\n",
              "\n",
              "    .dataframe tbody tr th {\n",
              "        vertical-align: top;\n",
              "    }\n",
              "\n",
              "    .dataframe thead th {\n",
              "        text-align: right;\n",
              "    }\n",
              "</style>\n",
              "<table border=\"1\" class=\"dataframe\">\n",
              "  <thead>\n",
              "    <tr style=\"text-align: right;\">\n",
              "      <th></th>\n",
              "      <th>IE</th>\n",
              "      <th>NS</th>\n",
              "      <th>TF</th>\n",
              "      <th>JP</th>\n",
              "    </tr>\n",
              "  </thead>\n",
              "  <tbody>\n",
              "    <tr>\n",
              "      <th>IE</th>\n",
              "      <td>1.000000</td>\n",
              "      <td>-0.045899</td>\n",
              "      <td>-0.069573</td>\n",
              "      <td>0.161939</td>\n",
              "    </tr>\n",
              "    <tr>\n",
              "      <th>NS</th>\n",
              "      <td>-0.045899</td>\n",
              "      <td>1.000000</td>\n",
              "      <td>-0.080954</td>\n",
              "      <td>0.014922</td>\n",
              "    </tr>\n",
              "    <tr>\n",
              "      <th>TF</th>\n",
              "      <td>-0.069573</td>\n",
              "      <td>-0.080954</td>\n",
              "      <td>1.000000</td>\n",
              "      <td>-0.004673</td>\n",
              "    </tr>\n",
              "    <tr>\n",
              "      <th>JP</th>\n",
              "      <td>0.161939</td>\n",
              "      <td>0.014922</td>\n",
              "      <td>-0.004673</td>\n",
              "      <td>1.000000</td>\n",
              "    </tr>\n",
              "  </tbody>\n",
              "</table>\n",
              "</div>\n",
              "      <button class=\"colab-df-convert\" onclick=\"convertToInteractive('df-e2b801d0-c25c-46e2-9661-fedb81538e65')\"\n",
              "              title=\"Convert this dataframe to an interactive table.\"\n",
              "              style=\"display:none;\">\n",
              "        \n",
              "  <svg xmlns=\"http://www.w3.org/2000/svg\" height=\"24px\"viewBox=\"0 0 24 24\"\n",
              "       width=\"24px\">\n",
              "    <path d=\"M0 0h24v24H0V0z\" fill=\"none\"/>\n",
              "    <path d=\"M18.56 5.44l.94 2.06.94-2.06 2.06-.94-2.06-.94-.94-2.06-.94 2.06-2.06.94zm-11 1L8.5 8.5l.94-2.06 2.06-.94-2.06-.94L8.5 2.5l-.94 2.06-2.06.94zm10 10l.94 2.06.94-2.06 2.06-.94-2.06-.94-.94-2.06-.94 2.06-2.06.94z\"/><path d=\"M17.41 7.96l-1.37-1.37c-.4-.4-.92-.59-1.43-.59-.52 0-1.04.2-1.43.59L10.3 9.45l-7.72 7.72c-.78.78-.78 2.05 0 2.83L4 21.41c.39.39.9.59 1.41.59.51 0 1.02-.2 1.41-.59l7.78-7.78 2.81-2.81c.8-.78.8-2.07 0-2.86zM5.41 20L4 18.59l7.72-7.72 1.47 1.35L5.41 20z\"/>\n",
              "  </svg>\n",
              "      </button>\n",
              "      \n",
              "  <style>\n",
              "    .colab-df-container {\n",
              "      display:flex;\n",
              "      flex-wrap:wrap;\n",
              "      gap: 12px;\n",
              "    }\n",
              "\n",
              "    .colab-df-convert {\n",
              "      background-color: #E8F0FE;\n",
              "      border: none;\n",
              "      border-radius: 50%;\n",
              "      cursor: pointer;\n",
              "      display: none;\n",
              "      fill: #1967D2;\n",
              "      height: 32px;\n",
              "      padding: 0 0 0 0;\n",
              "      width: 32px;\n",
              "    }\n",
              "\n",
              "    .colab-df-convert:hover {\n",
              "      background-color: #E2EBFA;\n",
              "      box-shadow: 0px 1px 2px rgba(60, 64, 67, 0.3), 0px 1px 3px 1px rgba(60, 64, 67, 0.15);\n",
              "      fill: #174EA6;\n",
              "    }\n",
              "\n",
              "    [theme=dark] .colab-df-convert {\n",
              "      background-color: #3B4455;\n",
              "      fill: #D2E3FC;\n",
              "    }\n",
              "\n",
              "    [theme=dark] .colab-df-convert:hover {\n",
              "      background-color: #434B5C;\n",
              "      box-shadow: 0px 1px 3px 1px rgba(0, 0, 0, 0.15);\n",
              "      filter: drop-shadow(0px 1px 2px rgba(0, 0, 0, 0.3));\n",
              "      fill: #FFFFFF;\n",
              "    }\n",
              "  </style>\n",
              "\n",
              "      <script>\n",
              "        const buttonEl =\n",
              "          document.querySelector('#df-e2b801d0-c25c-46e2-9661-fedb81538e65 button.colab-df-convert');\n",
              "        buttonEl.style.display =\n",
              "          google.colab.kernel.accessAllowed ? 'block' : 'none';\n",
              "\n",
              "        async function convertToInteractive(key) {\n",
              "          const element = document.querySelector('#df-e2b801d0-c25c-46e2-9661-fedb81538e65');\n",
              "          const dataTable =\n",
              "            await google.colab.kernel.invokeFunction('convertToInteractive',\n",
              "                                                     [key], {});\n",
              "          if (!dataTable) return;\n",
              "\n",
              "          const docLinkHtml = 'Like what you see? Visit the ' +\n",
              "            '<a target=\"_blank\" href=https://colab.research.google.com/notebooks/data_table.ipynb>data table notebook</a>'\n",
              "            + ' to learn more about interactive tables.';\n",
              "          element.innerHTML = '';\n",
              "          dataTable['output_type'] = 'display_data';\n",
              "          await google.colab.output.renderOutput(dataTable, element);\n",
              "          const docLink = document.createElement('div');\n",
              "          docLink.innerHTML = docLinkHtml;\n",
              "          element.appendChild(docLink);\n",
              "        }\n",
              "      </script>\n",
              "    </div>\n",
              "  </div>\n",
              "  "
            ]
          },
          "metadata": {},
          "execution_count": 24
        }
      ]
    },
    {
      "cell_type": "code",
      "source": [
        "cmap = plt.cm.RdBu\n",
        "corr = data[['IE','NS','TF','JP']].corr()\n",
        "plt.figure(figsize=(12,10))\n",
        "plt.title('Features Correlation Heatmap', size=15)\n",
        "sns.heatmap(corr, cmap=cmap,  annot=True, linewidths=1)"
      ],
      "metadata": {
        "id": "c2gElh5f6lwn",
        "outputId": "8a4fa13e-41d4-46fe-8ca4-430b807ed2e0",
        "execution": {
          "iopub.status.busy": "2022-04-23T06:21:14.487634Z",
          "iopub.execute_input": "2022-04-23T06:21:14.487968Z",
          "iopub.status.idle": "2022-04-23T06:21:14.806189Z",
          "shell.execute_reply.started": "2022-04-23T06:21:14.487938Z",
          "shell.execute_reply": "2022-04-23T06:21:14.805156Z"
        },
        "trusted": true,
        "colab": {
          "base_uri": "https://localhost:8080/",
          "height": 627
        }
      },
      "execution_count": 25,
      "outputs": [
        {
          "output_type": "execute_result",
          "data": {
            "text/plain": [
              "<matplotlib.axes._subplots.AxesSubplot at 0x7f551c632b10>"
            ]
          },
          "metadata": {},
          "execution_count": 25
        },
        {
          "output_type": "display_data",
          "data": {
            "text/plain": [
              "<Figure size 864x720 with 2 Axes>"
            ],
            "image/png": "[encoded data removed]"
          },
          "metadata": {
            "needs_background": "light"
          }
        }
      ]
    },
    {
      "cell_type": "markdown",
      "source": [
        "## Pre-Processing Stage"
      ],
      "metadata": {
        "id": "6k9yht5465FG"
      }
    },
    {
      "cell_type": "code",
      "source": [
        "lemmatiser = WordNetLemmatizer()\n",
        "\n",
        "# Remove the stop words for speed \n",
        "useless_words = stopwords.words(\"english\")\n",
        "\n",
        "# Remove these from the posts\n",
        "unique_type_list = ['INFJ', 'ENTP', 'INTP', 'INTJ', 'ENTJ', 'ENFJ', 'INFP', 'ENFP',\n",
        "       'ISFP', 'ISTP', 'ISFJ', 'ISTJ', 'ESTP', 'ESFP', 'ESTJ', 'ESFJ']\n",
        "unique_type_list = [x.lower() for x in unique_type_list]\n",
        "\n",
        "# Or we can use Label Encoding (as above) of this unique personality type indicator list\n",
        "# from sklearn.preprocessing import LabelEncoder\n",
        "# unique_type_list = ['INFJ', 'ENTP', 'INTP', 'INTJ', 'ENTJ', 'ENFJ', 'INFP', 'ENFP',\n",
        "#        'ISFP', 'ISTP', 'ISFJ', 'ISTJ', 'ESTP', 'ESFP', 'ESTJ', 'ESFJ']\n",
        "# lab_encoder = LabelEncoder().fit(unique_type_list)"
      ],
      "metadata": {
        "id": "TMEG_uSD6yDw",
        "execution": {
          "iopub.status.busy": "2022-04-23T06:21:14.807227Z",
          "iopub.execute_input": "2022-04-23T06:21:14.807496Z",
          "iopub.status.idle": "2022-04-23T06:21:14.814545Z",
          "shell.execute_reply.started": "2022-04-23T06:21:14.807469Z",
          "shell.execute_reply": "2022-04-23T06:21:14.813393Z"
        },
        "trusted": true
      },
      "execution_count": 26,
      "outputs": []
    },
    {
      "cell_type": "code",
      "source": [
        "# Splitting the MBTI personality into 4 letters and binarizing it\n",
        "\n",
        "b_Pers = {'I':0, 'E':1, 'N':0, 'S':1, 'F':0, 'T':1, 'J':0, 'P':1}\n",
        "b_Pers_list = [{0:'I', 1:'E'}, {0:'N', 1:'S'}, {0:'F', 1:'T'}, {0:'J', 1:'P'}]\n",
        "\n",
        "def translate_personality(personality):\n",
        "    # transform mbti to binary vector\n",
        "    return [b_Pers[l] for l in personality]\n",
        "\n",
        "#To show result output for personality prediction\n",
        "def translate_back(personality):\n",
        "    # transform binary vector to mbti personality\n",
        "    s = \"\"\n",
        "    for i, l in enumerate(personality):\n",
        "        s += b_Pers_list[i][l]\n",
        "    return s\n",
        "\n",
        "list_personality_bin = np.array([translate_personality(p) for p in data.type])\n",
        "print(\"Binarize MBTI list: \\n%s\" % list_personality_bin)"
      ],
      "metadata": {
        "id": "HY-kRwtsLyiZ",
        "outputId": "afbb9ffc-c160-49b5-dc8b-e73851110599",
        "execution": {
          "iopub.status.busy": "2022-04-23T06:21:14.816120Z",
          "iopub.execute_input": "2022-04-23T06:21:14.816426Z",
          "iopub.status.idle": "2022-04-23T06:21:14.858988Z",
          "shell.execute_reply.started": "2022-04-23T06:21:14.816395Z",
          "shell.execute_reply": "2022-04-23T06:21:14.857616Z"
        },
        "trusted": true,
        "colab": {
          "base_uri": "https://localhost:8080/"
        }
      },
      "execution_count": 27,
      "outputs": [
        {
          "output_type": "stream",
          "name": "stdout",
          "text": [
            "Binarize MBTI list: \n",
            "[[0 0 0 0]\n",
            " [1 0 1 1]\n",
            " [0 0 1 1]\n",
            " ...\n",
            " [0 0 1 1]\n",
            " [0 0 0 1]\n",
            " [0 0 0 1]]\n"
          ]
        }
      ]
    },
    {
      "cell_type": "code",
      "source": [
        "import nltk\n",
        "nltk.download('wordnet')"
      ],
      "metadata": {
        "colab": {
          "base_uri": "https://localhost:8080/"
        },
        "id": "jnuYyNkpmKE9",
        "outputId": "6247a5e9-a824-494d-c672-d521b8ae36d0"
      },
      "execution_count": 28,
      "outputs": [
        {
          "output_type": "stream",
          "name": "stdout",
          "text": [
            "[nltk_data] Downloading package wordnet to /root/nltk_data...\n",
            "[nltk_data]   Package wordnet is already up-to-date!\n"
          ]
        },
        {
          "output_type": "execute_result",
          "data": {
            "text/plain": [
              "True"
            ]
          },
          "metadata": {},
          "execution_count": 28
        }
      ]
    },
    {
      "cell_type": "code",
      "source": [
        "def pre_process_text(data, remove_stop_words=True, remove_mbti_profiles=True):\n",
        "  list_personality = []\n",
        "  list_posts = []\n",
        "  len_data = len(data)\n",
        "  i=0\n",
        "  \n",
        "  for row in data.iterrows():\n",
        "      # check code working \n",
        "      # i+=1\n",
        "      # if (i % 500 == 0 or i == 1 or i == len_data):\n",
        "      #     print(\"%s of %s rows\" % (i, len_data))\n",
        "\n",
        "      #Remove and clean comments\n",
        "      posts = row[1].posts\n",
        "\n",
        "      #Remove url links \n",
        "      temp = re.sub('http[s]?://(?:[a-zA-Z]|[0-9]|[$-_@.&+]|(?:%[0-9a-fA-F][0-9a-fA-F]))+', ' ', posts)\n",
        "\n",
        "      #Remove Non-words - keep only words\n",
        "      temp = re.sub(\"[^a-zA-Z]\", \" \", temp)\n",
        "\n",
        "      # Remove spaces > 1\n",
        "      temp = re.sub(' +', ' ', temp).lower()\n",
        "\n",
        "      #Remove multiple letter repeating words\n",
        "      temp = re.sub(r'([a-z])\\1{2,}[\\s|\\w]*', '', temp)\n",
        "\n",
        "      #Remove stop words\n",
        "      if remove_stop_words:\n",
        "          temp = \" \".join([lemmatiser.lemmatize(w) for w in temp.split(' ') if w not in useless_words])\n",
        "      else:\n",
        "          temp = \" \".join([lemmatiser.lemmatize(w) for w in temp.split(' ')])\n",
        "          \n",
        "      #Remove MBTI personality words from posts\n",
        "      if remove_mbti_profiles:\n",
        "          for t in unique_type_list:\n",
        "              temp = temp.replace(t,\"\")\n",
        "\n",
        "      # transform mbti to binary vector\n",
        "      type_labelized = translate_personality(row[1].type) #or use lab_encoder.transform([row[1].type])[0]\n",
        "      list_personality.append(type_labelized)\n",
        "      # the cleaned data temp is passed here\n",
        "      list_posts.append(temp)\n",
        "\n",
        "  # returns the result\n",
        "  list_posts = np.array(list_posts)\n",
        "  list_personality = np.array(list_personality)\n",
        "  return list_posts, list_personality\n",
        "\n",
        "list_posts, list_personality  = pre_process_text(data, remove_stop_words=True, remove_mbti_profiles=True)\n",
        "\n",
        "print(\"Example :\")\n",
        "print(\"\\nPost before preprocessing:\\n\\n\", data.posts[0])\n",
        "print(\"\\nPost after preprocessing:\\n\\n\", list_posts[0])\n",
        "print(\"\\nMBTI before preprocessing:\\n\\n\", data.type[0])\n",
        "print(\"\\nMBTI after preprocessing:\\n\\n\", list_personality[0])"
      ],
      "metadata": {
        "id": "f7uRW1FF7mRp",
        "outputId": "8da879df-ffd6-40f0-a0ee-403c588d3979",
        "execution": {
          "iopub.status.busy": "2022-04-23T06:21:14.860838Z",
          "iopub.execute_input": "2022-04-23T06:21:14.861190Z",
          "iopub.status.idle": "2022-04-23T06:22:12.676295Z",
          "shell.execute_reply.started": "2022-04-23T06:21:14.861157Z",
          "shell.execute_reply": "2022-04-23T06:22:12.675209Z"
        },
        "trusted": true,
        "colab": {
          "base_uri": "https://localhost:8080/"
        }
      },
      "execution_count": 29,
      "outputs": [
        {
          "output_type": "stream",
          "name": "stdout",
          "text": [
            "Example :\n",
            "\n",
            "Post before preprocessing:\n",
            "\n",
            " 'http://www.youtube.com/watch?v=qsXHcwe3krw|||http://41.media.tumblr.com/tumblr_lfouy03PMA1qa1rooo1_500.jpg|||enfp and intj moments  https://www.youtube.com/watch?v=iz7lE1g4XM4  sportscenter not top ten plays  https://www.youtube.com/watch?v=uCdfze1etec  pranks|||What has been the most life-changing experience in your life?|||http://www.youtube.com/watch?v=vXZeYwwRDw8   http://www.youtube.com/watch?v=u8ejam5DP3E  On repeat for most of today.|||May the PerC Experience immerse you.|||The last thing my INFJ friend posted on his facebook before committing suicide the next day. Rest in peace~   http://vimeo.com/22842206|||Hello ENFJ7. Sorry to hear of your distress. It's only natural for a relationship to not be perfection all the time in every moment of existence. Try to figure the hard times as times of growth, as...|||84389  84390  http://wallpaperpassion.com/upload/23700/friendship-boy-and-girl-wallpaper.jpg  http://assets.dornob.com/wp-content/uploads/2010/04/round-home-design.jpg ...|||Welcome and stuff.|||http://playeressence.com/wp-content/uploads/2013/08/RED-red-the-pokemon-master-32560474-450-338.jpg  Game. Set. Match.|||Prozac, wellbrutin, at least thirty minutes of moving your legs (and I don't mean moving them while sitting in your same desk chair), weed in moderation (maybe try edibles as a healthier alternative...|||Basically come up with three items you've determined that each type (or whichever types you want to do) would more than likely use, given each types' cognitive functions and whatnot, when left by...|||All things in moderation.  Sims is indeed a video game, and a good one at that. Note: a good one at that is somewhat subjective in that I am not completely promoting the death of any given Sim...|||Dear ENFP:  What were your favorite video games growing up and what are your now, current favorite video games? :cool:|||https://www.youtube.com/watch?v=QyPqT8umzmY|||It appears to be too late. :sad:|||There's someone out there for everyone.|||Wait... I thought confidence was a good thing.|||I just cherish the time of solitude b/c i revel within my inner world more whereas most other time i'd be workin... just enjoy the me time while you can. Don't worry, people will always be around to...|||Yo entp ladies... if you're into a complimentary personality,well, hey.|||... when your main social outlet is xbox live conversations and even then you verbally fatigue quickly.|||http://www.youtube.com/watch?v=gDhy7rdfm14  I really dig the part from 1:46 to 2:50|||http://www.youtube.com/watch?v=msqXffgh7b8|||Banned because this thread requires it of me.|||Get high in backyard, roast and eat marshmellows in backyard while conversing over something intellectual, followed by massages and kisses.|||http://www.youtube.com/watch?v=Mw7eoU3BMbE|||http://www.youtube.com/watch?v=4V2uYORhQOk|||http://www.youtube.com/watch?v=SlVmgFQQ0TI|||Banned for too many b's in that sentence. How could you! Think of the B!|||Banned for watching movies in the corner with the dunces.|||Banned because Health class clearly taught you nothing about peer pressure.|||Banned for a whole host of reasons!|||http://www.youtube.com/watch?v=IRcrv41hgz4|||1) Two baby deer on left and right munching on a beetle in the middle.  2) Using their own blood, two cavemen diary today's latest happenings on their designated cave diary wall.  3) I see it as...|||a pokemon world  an infj society  everyone becomes an optimist|||49142|||http://www.youtube.com/watch?v=ZRCEq_JFeFM|||http://discovermagazine.com/2012/jul-aug/20-things-you-didnt-know-about-deserts/desert.jpg|||http://oyster.ignimgs.com/mediawiki/apis.ign.com/pokemon-silver-version/d/dd/Ditto.gif|||http://www.serebii.net/potw-dp/Scizor.jpg|||Not all artists are artists because they draw. It's the idea that counts in forming something of your own... like a signature.|||Welcome to the robot ranks, person who downed my self-esteem cuz I'm not an avid signature artist like herself. :proud:|||Banned for taking all the room under my bed. Ya gotta learn to share with the roaches.|||http://www.youtube.com/watch?v=w8IgImn57aQ|||Banned for being too much of a thundering, grumbling kind of storm... yep.|||Ahh... old high school music I haven't heard in ages.   http://www.youtube.com/watch?v=dcCRUPCdB1w|||I failed a public speaking class a few years ago and I've sort of learned what I could do better were I to be in that position again. A big part of my failure was just overloading myself with too...|||I like this person's mentality. He's a confirmed INTJ by the way. http://www.youtube.com/watch?v=hGKLI-GEc6M|||Move to the Denver area and start a new life for myself.'\n",
            "\n",
            "Post after preprocessing:\n",
            "\n",
            "    moment sportscenter top ten play prank life changing experience life repeat today may perc experience immerse last thing  friend posted facebook committing suicide next day rest peace hello  sorry hear distress natural relationship perfection time every moment existence try figure hard time time growth welcome stuff game set match prozac wellbrutin least thirty minute moving leg mean moving sitting desk chair weed moderation maybe try edible healthier alternative basically come three item determined type whichever type want would likely use given type cognitive function whatnot left thing moderation sims indeed video game good one note good one somewhat subjective completely promoting death given sim dear  favorite video game growing current favorite video game cool appears late sad someone everyone wait thought confidence good thing cherish time solitude b c revel within inner world whereas time workin enjoy time worry people always around yo  lady complimentary personality well hey main social outlet xbox live conversation even verbally fatigue quickly really dig part banned thread requires get high backyard roast eat marshmellows backyard conversing something intellectual followed massage kiss banned many b sentence could think b banned watching movie corner dunce banned health class clearly taught nothing peer pressure banned whole host reason two baby deer left right munching beetle middle using blood two caveman diary today latest happening designated cave diary wall see pokemon world  society everyone becomes optimist artist artist draw idea count forming something like signature welcome robot rank person downed self esteem cuz avid signature artist like proud banned taking room bed ya gotta learn share roach banned much thundering grumbling kind storm yep ahh old high school music heard age failed public speaking class year ago sort learned could better position big part failure overloading like person mentality confirmed  way move denver area start new life \n",
            "\n",
            "MBTI before preprocessing:\n",
            "\n",
            " INFJ\n",
            "\n",
            "MBTI after preprocessing:\n",
            "\n",
            " [0 0 0 0]\n"
          ]
        }
      ]
    },
    {
      "cell_type": "code",
      "source": [
        "nRow, nCol = list_personality.shape\n",
        "print(f'No. of posts = {nRow}  and No. of Personalities = {nCol} ')"
      ],
      "metadata": {
        "id": "5hK8eqy8dDVa",
        "outputId": "5cf332da-d414-4e29-f980-3e702fab8f18",
        "execution": {
          "iopub.status.busy": "2022-04-23T06:22:12.678903Z",
          "iopub.execute_input": "2022-04-23T06:22:12.679221Z",
          "iopub.status.idle": "2022-04-23T06:22:12.684627Z",
          "shell.execute_reply.started": "2022-04-23T06:22:12.679192Z",
          "shell.execute_reply": "2022-04-23T06:22:12.683522Z"
        },
        "trusted": true,
        "colab": {
          "base_uri": "https://localhost:8080/"
        }
      },
      "execution_count": 30,
      "outputs": [
        {
          "output_type": "stream",
          "name": "stdout",
          "text": [
            "No. of posts = 8675  and No. of Personalities = 4 \n"
          ]
        }
      ]
    },
    {
      "cell_type": "markdown",
      "source": [
        "## Feature Engineering"
      ],
      "metadata": {
        "id": "6dzKnwXy928H"
      }
    },
    {
      "cell_type": "code",
      "source": [
        "# Vectorizing the database posts to a matrix of token counts for the model\n",
        "cntizer = CountVectorizer(analyzer=\"word\", \n",
        "                             max_features=1000,  \n",
        "                             max_df=0.7,\n",
        "                             min_df=0.1) \n",
        "# the feature should be made of word n-gram \n",
        "# Learn the vocabulary dictionary and return term-document matrix\n",
        "print(\"Using CountVectorizer :\")\n",
        "X_cnt = cntizer.fit_transform(list_posts)\n",
        "\n",
        "#The enumerate object yields pairs containing a count and a value (useful for obtaining an indexed list)\n",
        "feature_names = list(enumerate(cntizer.get_feature_names()))\n",
        "print(\"10 feature names can be seen below\")\n",
        "print(feature_names[0:10])\n",
        "\n",
        "# For the Standardization or Feature Scaling Stage :-\n",
        "# Transform the count matrix to a normalized tf or tf-idf representation\n",
        "tfizer = TfidfTransformer()\n",
        "\n",
        "# Learn the idf vector (fit) and transform a count matrix to a tf-idf representation\n",
        "print(\"\\nUsing Tf-idf :\")\n",
        "\n",
        "print(\"Now the dataset size is as below\")\n",
        "X_tfidf =  tfizer.fit_transform(X_cnt).toarray()\n",
        "print(X_tfidf.shape)"
      ],
      "metadata": {
        "id": "lZzMClBLd04S",
        "outputId": "d90623cc-f146-4cce-b0b7-89e397c9186a",
        "execution": {
          "iopub.status.busy": "2022-04-23T06:22:12.685992Z",
          "iopub.execute_input": "2022-04-23T06:22:12.686349Z",
          "iopub.status.idle": "2022-04-23T06:22:17.621745Z",
          "shell.execute_reply.started": "2022-04-23T06:22:12.686305Z",
          "shell.execute_reply": "2022-04-23T06:22:17.620715Z"
        },
        "trusted": true,
        "colab": {
          "base_uri": "https://localhost:8080/"
        }
      },
      "execution_count": 31,
      "outputs": [
        {
          "output_type": "stream",
          "name": "stdout",
          "text": [
            "Using CountVectorizer :\n",
            "10 feature names can be seen below\n",
            "[(0, 'ability'), (1, 'able'), (2, 'absolutely'), (3, 'across'), (4, 'act'), (5, 'action'), (6, 'actually'), (7, 'add'), (8, 'advice'), (9, 'afraid')]\n",
            "\n",
            "Using Tf-idf :\n",
            "Now the dataset size is as below\n",
            "(8675, 595)\n"
          ]
        }
      ]
    },
    {
      "cell_type": "code",
      "source": [
        "#counting top 10 words\n",
        "reverse_dic = {}\n",
        "for key in cntizer.vocabulary_:\n",
        "    reverse_dic[cntizer.vocabulary_[key]] = key\n",
        "top_10 = np.asarray(np.argsort(np.sum(X_cnt, axis=0))[0,-10:][0, ::-1]).flatten()\n",
        "[reverse_dic[v] for v in top_10]"
      ],
      "metadata": {
        "id": "z-d52az-KnGJ",
        "outputId": "97e37d64-9987-4ea8-fef7-79c9ea79bf74",
        "execution": {
          "iopub.status.busy": "2022-04-23T06:22:17.623253Z",
          "iopub.execute_input": "2022-04-23T06:22:17.623574Z",
          "iopub.status.idle": "2022-04-23T06:22:17.636695Z",
          "shell.execute_reply.started": "2022-04-23T06:22:17.623541Z",
          "shell.execute_reply": "2022-04-23T06:22:17.635639Z"
        },
        "trusted": true,
        "colab": {
          "base_uri": "https://localhost:8080/"
        }
      },
      "execution_count": 32,
      "outputs": [
        {
          "output_type": "execute_result",
          "data": {
            "text/plain": [
              "['feel',\n",
              " 'type',\n",
              " 'well',\n",
              " 'say',\n",
              " 'way',\n",
              " 'friend',\n",
              " 'want',\n",
              " 'love',\n",
              " 'good',\n",
              " 'something']"
            ]
          },
          "metadata": {},
          "execution_count": 32
        }
      ]
    },
    {
      "cell_type": "markdown",
      "source": [
        "### Splitting into X and Y variable"
      ],
      "metadata": {
        "id": "d77Aw_QRAZbp"
      }
    },
    {
      "cell_type": "code",
      "source": [
        "personality_type = [ \"IE: Introversion (I) / Extroversion (E)\", \"NS: Intuition (N) / Sensing (S)\", \n",
        "                   \"FT: Feeling (F) / Thinking (T)\", \"JP: Judging (J) / Perceiving (P)\"  ]\n",
        "\n",
        "for l in range(len(personality_type)):\n",
        "    print(personality_type[l])"
      ],
      "metadata": {
        "id": "VhrinZwad5wa",
        "outputId": "b199c8db-c74c-4601-b999-7d6a5f167e3e",
        "execution": {
          "iopub.status.busy": "2022-04-23T06:22:17.638361Z",
          "iopub.execute_input": "2022-04-23T06:22:17.639205Z",
          "iopub.status.idle": "2022-04-23T06:22:17.645283Z",
          "shell.execute_reply.started": "2022-04-23T06:22:17.639167Z",
          "shell.execute_reply": "2022-04-23T06:22:17.644004Z"
        },
        "trusted": true,
        "colab": {
          "base_uri": "https://localhost:8080/"
        }
      },
      "execution_count": 33,
      "outputs": [
        {
          "output_type": "stream",
          "name": "stdout",
          "text": [
            "IE: Introversion (I) / Extroversion (E)\n",
            "NS: Intuition (N) / Sensing (S)\n",
            "FT: Feeling (F) / Thinking (T)\n",
            "JP: Judging (J) / Perceiving (P)\n"
          ]
        }
      ]
    },
    {
      "cell_type": "code",
      "source": [
        "print(\"For MBTI personality type : %s\" % translate_back(list_personality[0,:]))\n",
        "print(\"Y : Binarized MBTI 1st row: %s\" % list_personality[0,:])"
      ],
      "metadata": {
        "id": "DdACzvUaeoJE",
        "outputId": "4a49783d-7b52-4f60-abc8-651e0bd2d543",
        "execution": {
          "iopub.status.busy": "2022-04-23T06:22:17.646700Z",
          "iopub.execute_input": "2022-04-23T06:22:17.647021Z",
          "iopub.status.idle": "2022-04-23T06:22:17.658604Z",
          "shell.execute_reply.started": "2022-04-23T06:22:17.646992Z",
          "shell.execute_reply": "2022-04-23T06:22:17.657497Z"
        },
        "trusted": true,
        "colab": {
          "base_uri": "https://localhost:8080/"
        }
      },
      "execution_count": 34,
      "outputs": [
        {
          "output_type": "stream",
          "name": "stdout",
          "text": [
            "For MBTI personality type : INFJ\n",
            "Y : Binarized MBTI 1st row: [0 0 0 0]\n"
          ]
        }
      ]
    },
    {
      "cell_type": "markdown",
      "source": [
        "## Training & Evaluating Models"
      ],
      "metadata": {
        "id": "UvoABgNLuo2X"
      }
    },
    {
      "cell_type": "code",
      "source": [
        "# Posts in tf-idf representation\n",
        "X = X_tfidf"
      ],
      "metadata": {
        "id": "UCS6dtAwGWiI",
        "execution": {
          "iopub.status.busy": "2022-04-23T06:22:17.660069Z",
          "iopub.execute_input": "2022-04-23T06:22:17.660917Z",
          "iopub.status.idle": "2022-04-23T06:22:17.668180Z",
          "shell.execute_reply.started": "2022-04-23T06:22:17.660882Z",
          "shell.execute_reply": "2022-04-23T06:22:17.667096Z"
        },
        "trusted": true
      },
      "execution_count": 35,
      "outputs": []
    },
    {
      "cell_type": "code",
      "source": [
        "#Random Forest model for MBTI dataset\n",
        "# Individually training each mbti personlity type\n",
        "for l in range(len(personality_type)):\n",
        "    \n",
        "    Y = list_personality[:,l]\n",
        "\n",
        "    # split data into train and test sets\n",
        "    X_train, X_test, y_train, y_test = train_test_split(X, Y, test_size=0.3, random_state=7)\n",
        "\n",
        "    # fit model on training data\n",
        "    model = RandomForestClassifier()\n",
        "    model.fit(X_train, y_train)\n",
        "\n",
        "    # make predictions for test data\n",
        "    y_pred = model.predict(X_test)\n",
        "    \n",
        "    predictions = [round(value) for value in y_pred]\n",
        "    # evaluate predictions\n",
        "    accuracy = accuracy_score(y_test, predictions)\n",
        "    \n",
        "    print(\"%s Accuracy: %.2f%%\" % (personality_type[l], accuracy * 100.0))"
      ],
      "metadata": {
        "id": "pWUcW-W-eyo_",
        "outputId": "5e0c194d-5d6c-4cc3-eef1-0893961bd159",
        "execution": {
          "iopub.status.busy": "2022-04-23T06:22:17.669893Z",
          "iopub.execute_input": "2022-04-23T06:22:17.670324Z",
          "iopub.status.idle": "2022-04-23T06:22:48.021205Z",
          "shell.execute_reply.started": "2022-04-23T06:22:17.670280Z",
          "shell.execute_reply": "2022-04-23T06:22:48.020077Z"
        },
        "trusted": true,
        "colab": {
          "base_uri": "https://localhost:8080/"
        }
      },
      "execution_count": 36,
      "outputs": [
        {
          "output_type": "stream",
          "name": "stdout",
          "text": [
            "IE: Introversion (I) / Extroversion (E) Accuracy: 77.26%\n",
            "NS: Intuition (N) / Sensing (S) Accuracy: 86.21%\n",
            "FT: Feeling (F) / Thinking (T) Accuracy: 67.65%\n",
            "JP: Judging (J) / Perceiving (P) Accuracy: 63.00%\n"
          ]
        }
      ]
    },
    {
      "cell_type": "code",
      "source": [
        "#XGBoost model for MBTI dataset \n",
        "# Individually training each mbti personlity type\n",
        "for l in range(len(personality_type)):\n",
        "    \n",
        "    Y = list_personality[:,l]\n",
        "\n",
        "    # split data into train and test sets\n",
        "    X_train, X_test, y_train, y_test = train_test_split(X, Y, test_size=0.3, random_state=7)\n",
        "\n",
        "    # fit model on training data\n",
        "    model = XGBClassifier()\n",
        "    model.fit(X_train, y_train)\n",
        "\n",
        "    # make predictions for test data\n",
        "    y_pred = model.predict(X_test)\n",
        "    predictions = [round(value) for value in y_pred]\n",
        "    # evaluate predictions\n",
        "    accuracy = accuracy_score(y_test, predictions)\n",
        "    \n",
        "    print(\"%s Accuracy: %.2f%%\" % (personality_type[l], accuracy * 100.0))"
      ],
      "metadata": {
        "id": "yd9Cyx32fBC3",
        "outputId": "66ec0f8b-de98-4422-ba56-88b6c76f1b9e",
        "execution": {
          "iopub.status.busy": "2022-04-23T06:22:48.022619Z",
          "iopub.execute_input": "2022-04-23T06:22:48.022949Z",
          "iopub.status.idle": "2022-04-23T06:23:39.602640Z",
          "shell.execute_reply.started": "2022-04-23T06:22:48.022917Z",
          "shell.execute_reply": "2022-04-23T06:23:39.601669Z"
        },
        "trusted": true,
        "colab": {
          "base_uri": "https://localhost:8080/"
        }
      },
      "execution_count": 37,
      "outputs": [
        {
          "output_type": "stream",
          "name": "stdout",
          "text": [
            "IE: Introversion (I) / Extroversion (E) Accuracy: 77.53%\n",
            "NS: Intuition (N) / Sensing (S) Accuracy: 86.13%\n",
            "FT: Feeling (F) / Thinking (T) Accuracy: 68.34%\n",
            "JP: Judging (J) / Perceiving (P) Accuracy: 65.89%\n"
          ]
        }
      ]
    },
    {
      "cell_type": "code",
      "source": [
        "# Stocastic Gradient Descent for MBTI dataset\n",
        "# Individually training each mbti personlity type\n",
        "for l in range(len(personality_type)):\n",
        "\n",
        "    Y = list_personality[:,l]\n",
        "\n",
        "    # split data into train and test sets\n",
        "    X_train, X_test, y_train, y_test = train_test_split(X, Y, test_size=0.3, random_state=7)\n",
        "\n",
        "    # fit model on training data\n",
        "    model = SGDClassifier() \n",
        "    model.fit(X_train, y_train)\n",
        "\n",
        "    # make predictions for test data\n",
        "    y_pred = model.predict(X_test)\n",
        "    \n",
        "    predictions = [round(value) for value in y_pred]\n",
        "    # evaluate predictions\n",
        "    accuracy = accuracy_score(y_test, predictions)\n",
        "    \n",
        "    print(\"%s Accuracy: %.2f%%\" % (personality_type[l], accuracy * 100.0))"
      ],
      "metadata": {
        "id": "cAr3yKPaSVNe",
        "outputId": "4ed390c3-580a-4351-ea1e-fdf18ebf23ca",
        "execution": {
          "iopub.status.busy": "2022-04-23T06:23:39.606484Z",
          "iopub.execute_input": "2022-04-23T06:23:39.606859Z",
          "iopub.status.idle": "2022-04-23T06:23:41.417477Z",
          "shell.execute_reply.started": "2022-04-23T06:23:39.606825Z",
          "shell.execute_reply": "2022-04-23T06:23:41.414599Z"
        },
        "trusted": true,
        "colab": {
          "base_uri": "https://localhost:8080/"
        }
      },
      "execution_count": 38,
      "outputs": [
        {
          "output_type": "stream",
          "name": "stdout",
          "text": [
            "IE: Introversion (I) / Extroversion (E) Accuracy: 77.64%\n",
            "NS: Intuition (N) / Sensing (S) Accuracy: 86.21%\n",
            "FT: Feeling (F) / Thinking (T) Accuracy: 72.42%\n",
            "JP: Judging (J) / Perceiving (P) Accuracy: 63.08%\n"
          ]
        }
      ]
    },
    {
      "cell_type": "code",
      "source": [
        "# Logistic Regression for MBTI dataset\n",
        "# Individually training each mbti personlity type\n",
        "for l in range(len(personality_type)):\n",
        "\n",
        "    Y = list_personality[:,l]\n",
        "\n",
        "    # split data into train and test sets\n",
        "    X_train, X_test, y_train, y_test = train_test_split(X, Y, test_size=0.3, random_state=7)\n",
        "\n",
        "    # fit model on training data\n",
        "    model = LogisticRegression() \n",
        "    model.fit(X_train, y_train)\n",
        "\n",
        "    # make predictions for test data\n",
        "    y_pred = model.predict(X_test)\n",
        "    \n",
        "    predictions = [round(value) for value in y_pred]\n",
        "    # evaluate predictions\n",
        "    accuracy = accuracy_score(y_test, predictions)\n",
        "    \n",
        "    print(\"%s Accuracy: %.2f%%\" % (personality_type[l], accuracy * 100.0))"
      ],
      "metadata": {
        "id": "VHdH5ARlSX-f",
        "outputId": "2cc338d1-8fe6-431f-cdef-bdc0572d6ec7",
        "execution": {
          "iopub.status.busy": "2022-04-23T06:23:41.419389Z",
          "iopub.execute_input": "2022-04-23T06:23:41.419896Z",
          "iopub.status.idle": "2022-04-23T06:23:42.474329Z",
          "shell.execute_reply.started": "2022-04-23T06:23:41.419846Z",
          "shell.execute_reply": "2022-04-23T06:23:42.473126Z"
        },
        "trusted": true,
        "colab": {
          "base_uri": "https://localhost:8080/"
        }
      },
      "execution_count": 39,
      "outputs": [
        {
          "output_type": "stream",
          "name": "stdout",
          "text": [
            "IE: Introversion (I) / Extroversion (E) Accuracy: 77.22%\n",
            "NS: Intuition (N) / Sensing (S) Accuracy: 86.25%\n",
            "FT: Feeling (F) / Thinking (T) Accuracy: 73.30%\n",
            "JP: Judging (J) / Perceiving (P) Accuracy: 64.35%\n"
          ]
        }
      ]
    },
    {
      "cell_type": "code",
      "source": [
        "#2 KNN model for MBTI dataset\n",
        "# Individually training each mbti personlity type\n",
        "for l in range(len(personality_type)):\n",
        "\n",
        "    Y = list_personality[:,l]\n",
        "\n",
        "    # split data into train and test sets\n",
        "    X_train, X_test, y_train, y_test = train_test_split(X, Y, test_size=0.3, random_state=7)\n",
        "\n",
        "    # fit model on training data\n",
        "    model = KNeighborsClassifier(n_neighbors = 2)  # n_neighbors means k\n",
        "    model.fit(X_train, y_train)\n",
        "\n",
        "    # make predictions for test data\n",
        "    y_pred = model.predict(X_test)\n",
        "    \n",
        "    predictions = [round(value) for value in y_pred]\n",
        "    # evaluate predictions\n",
        "    accuracy = accuracy_score(y_test, predictions)\n",
        "   \n",
        "    print(\"%s Accuracy: %.2f%%\" % (personality_type[l], accuracy * 100.0))"
      ],
      "metadata": {
        "id": "vqdZ3BzPnUIU",
        "outputId": "52a5b43d-429c-420b-f6d2-cb0c9b8def70",
        "execution": {
          "iopub.status.busy": "2022-04-23T06:23:42.476033Z",
          "iopub.execute_input": "2022-04-23T06:23:42.476716Z",
          "iopub.status.idle": "2022-04-23T06:23:45.413821Z",
          "shell.execute_reply.started": "2022-04-23T06:23:42.476665Z",
          "shell.execute_reply": "2022-04-23T06:23:45.412937Z"
        },
        "trusted": true,
        "colab": {
          "base_uri": "https://localhost:8080/"
        }
      },
      "execution_count": 40,
      "outputs": [
        {
          "output_type": "stream",
          "name": "stdout",
          "text": [
            "IE: Introversion (I) / Extroversion (E) Accuracy: 77.30%\n",
            "NS: Intuition (N) / Sensing (S) Accuracy: 85.25%\n",
            "FT: Feeling (F) / Thinking (T) Accuracy: 54.63%\n",
            "JP: Judging (J) / Perceiving (P) Accuracy: 39.07%\n"
          ]
        }
      ]
    },
    {
      "cell_type": "code",
      "source": [
        "# SVM model for MBTI dataset\n",
        "# Individually training each mbti personlity type\n",
        "for l in range(len(personality_type)):\n",
        "    \n",
        "    Y = list_personality[:,l]\n",
        "\n",
        "    # split data into train and test sets\n",
        "    X_train, X_test, y_train, y_test = train_test_split(X, Y, test_size=0.3, random_state=7)\n",
        "\n",
        "    # fit model on training data\n",
        "    model = SVC(random_state = 1)\n",
        "    model.fit(X_train, y_train)\n",
        "\n",
        "    # make predictions for test data\n",
        "    y_pred = model.predict(X_test)\n",
        "    \n",
        "    predictions = [round(value) for value in y_pred]\n",
        "    # evaluate predictions\n",
        "    accuracy = accuracy_score(y_test, predictions)\n",
        "    \n",
        "    print(\"%s Accuracy: %.2f%%\" % (personality_type[l], accuracy * 100.0))"
      ],
      "metadata": {
        "id": "FC8Yg__cX4f4",
        "outputId": "1600b5d8-f287-49e9-dc73-4dfdc83ba5c4",
        "execution": {
          "iopub.status.busy": "2022-04-23T06:23:45.415014Z",
          "iopub.execute_input": "2022-04-23T06:23:45.415308Z",
          "iopub.status.idle": "2022-04-23T06:25:26.836201Z",
          "shell.execute_reply.started": "2022-04-23T06:23:45.415279Z",
          "shell.execute_reply": "2022-04-23T06:25:26.835255Z"
        },
        "trusted": true,
        "colab": {
          "base_uri": "https://localhost:8080/"
        }
      },
      "execution_count": 41,
      "outputs": [
        {
          "output_type": "stream",
          "name": "stdout",
          "text": [
            "IE: Introversion (I) / Extroversion (E) Accuracy: 77.56%\n",
            "NS: Intuition (N) / Sensing (S) Accuracy: 86.21%\n",
            "FT: Feeling (F) / Thinking (T) Accuracy: 73.03%\n",
            "JP: Judging (J) / Perceiving (P) Accuracy: 65.50%\n"
          ]
        }
      ]
    },
    {
      "cell_type": "markdown",
      "source": [
        "## Prediction random 100 data"
      ],
      "metadata": {
        "id": "IENcipC020EP"
      }
    },
    {
      "cell_type": "code",
      "source": [
        "test_df = pd.read_csv(\"mbti_1.csv\")\n",
        "test_df.head()"
      ],
      "metadata": {
        "execution": {
          "iopub.status.busy": "2022-04-23T06:25:26.837730Z",
          "iopub.execute_input": "2022-04-23T06:25:26.838076Z",
          "iopub.status.idle": "2022-04-23T06:25:27.578859Z",
          "shell.execute_reply.started": "2022-04-23T06:25:26.838037Z",
          "shell.execute_reply": "2022-04-23T06:25:27.577976Z"
        },
        "trusted": true,
        "colab": {
          "base_uri": "https://localhost:8080/",
          "height": 206
        },
        "id": "eZ3pbFRbvSfy",
        "outputId": "8845c122-e678-449e-afe1-279a9f211e49"
      },
      "execution_count": 43,
      "outputs": [
        {
          "output_type": "execute_result",
          "data": {
            "text/plain": [
              "   type                                              posts\n",
              "0  INFJ  'http://www.youtube.com/watch?v=qsXHcwe3krw|||...\n",
              "1  ENTP  'I'm finding the lack of me in these posts ver...\n",
              "2  INTP  'Good one  _____   https://www.youtube.com/wat...\n",
              "3  INTJ  'Dear INTP,   I enjoyed our conversation the o...\n",
              "4  ENTJ  'You're fired.|||That's another silly misconce..."
            ],
            "text/html": [
              "\n",
              "  <div id=\"df-afeb853c-c5e2-4216-9c03-75abd29c2898\">\n",
              "    <div class=\"colab-df-container\">\n",
              "      <div>\n",
              "<style scoped>\n",
              "    .dataframe tbody tr th:only-of-type {\n",
              "        vertical-align: middle;\n",
              "    }\n",
              "\n",
              "    .dataframe tbody tr th {\n",
              "        vertical-align: top;\n",
              "    }\n",
              "\n",
              "    .dataframe thead th {\n",
              "        text-align: right;\n",
              "    }\n",
              "</style>\n",
              "<table border=\"1\" class=\"dataframe\">\n",
              "  <thead>\n",
              "    <tr style=\"text-align: right;\">\n",
              "      <th></th>\n",
              "      <th>type</th>\n",
              "      <th>posts</th>\n",
              "    </tr>\n",
              "  </thead>\n",
              "  <tbody>\n",
              "    <tr>\n",
              "      <th>0</th>\n",
              "      <td>INFJ</td>\n",
              "      <td>'http://www.youtube.com/watch?v=qsXHcwe3krw|||...</td>\n",
              "    </tr>\n",
              "    <tr>\n",
              "      <th>1</th>\n",
              "      <td>ENTP</td>\n",
              "      <td>'I'm finding the lack of me in these posts ver...</td>\n",
              "    </tr>\n",
              "    <tr>\n",
              "      <th>2</th>\n",
              "      <td>INTP</td>\n",
              "      <td>'Good one  _____   https://www.youtube.com/wat...</td>\n",
              "    </tr>\n",
              "    <tr>\n",
              "      <th>3</th>\n",
              "      <td>INTJ</td>\n",
              "      <td>'Dear INTP,   I enjoyed our conversation the o...</td>\n",
              "    </tr>\n",
              "    <tr>\n",
              "      <th>4</th>\n",
              "      <td>ENTJ</td>\n",
              "      <td>'You're fired.|||That's another silly misconce...</td>\n",
              "    </tr>\n",
              "  </tbody>\n",
              "</table>\n",
              "</div>\n",
              "      <button class=\"colab-df-convert\" onclick=\"convertToInteractive('df-afeb853c-c5e2-4216-9c03-75abd29c2898')\"\n",
              "              title=\"Convert this dataframe to an interactive table.\"\n",
              "              style=\"display:none;\">\n",
              "        \n",
              "  <svg xmlns=\"http://www.w3.org/2000/svg\" height=\"24px\"viewBox=\"0 0 24 24\"\n",
              "       width=\"24px\">\n",
              "    <path d=\"M0 0h24v24H0V0z\" fill=\"none\"/>\n",
              "    <path d=\"M18.56 5.44l.94 2.06.94-2.06 2.06-.94-2.06-.94-.94-2.06-.94 2.06-2.06.94zm-11 1L8.5 8.5l.94-2.06 2.06-.94-2.06-.94L8.5 2.5l-.94 2.06-2.06.94zm10 10l.94 2.06.94-2.06 2.06-.94-2.06-.94-.94-2.06-.94 2.06-2.06.94z\"/><path d=\"M17.41 7.96l-1.37-1.37c-.4-.4-.92-.59-1.43-.59-.52 0-1.04.2-1.43.59L10.3 9.45l-7.72 7.72c-.78.78-.78 2.05 0 2.83L4 21.41c.39.39.9.59 1.41.59.51 0 1.02-.2 1.41-.59l7.78-7.78 2.81-2.81c.8-.78.8-2.07 0-2.86zM5.41 20L4 18.59l7.72-7.72 1.47 1.35L5.41 20z\"/>\n",
              "  </svg>\n",
              "      </button>\n",
              "      \n",
              "  <style>\n",
              "    .colab-df-container {\n",
              "      display:flex;\n",
              "      flex-wrap:wrap;\n",
              "      gap: 12px;\n",
              "    }\n",
              "\n",
              "    .colab-df-convert {\n",
              "      background-color: #E8F0FE;\n",
              "      border: none;\n",
              "      border-radius: 50%;\n",
              "      cursor: pointer;\n",
              "      display: none;\n",
              "      fill: #1967D2;\n",
              "      height: 32px;\n",
              "      padding: 0 0 0 0;\n",
              "      width: 32px;\n",
              "    }\n",
              "\n",
              "    .colab-df-convert:hover {\n",
              "      background-color: #E2EBFA;\n",
              "      box-shadow: 0px 1px 2px rgba(60, 64, 67, 0.3), 0px 1px 3px 1px rgba(60, 64, 67, 0.15);\n",
              "      fill: #174EA6;\n",
              "    }\n",
              "\n",
              "    [theme=dark] .colab-df-convert {\n",
              "      background-color: #3B4455;\n",
              "      fill: #D2E3FC;\n",
              "    }\n",
              "\n",
              "    [theme=dark] .colab-df-convert:hover {\n",
              "      background-color: #434B5C;\n",
              "      box-shadow: 0px 1px 3px 1px rgba(0, 0, 0, 0.15);\n",
              "      filter: drop-shadow(0px 1px 2px rgba(0, 0, 0, 0.3));\n",
              "      fill: #FFFFFF;\n",
              "    }\n",
              "  </style>\n",
              "\n",
              "      <script>\n",
              "        const buttonEl =\n",
              "          document.querySelector('#df-afeb853c-c5e2-4216-9c03-75abd29c2898 button.colab-df-convert');\n",
              "        buttonEl.style.display =\n",
              "          google.colab.kernel.accessAllowed ? 'block' : 'none';\n",
              "\n",
              "        async function convertToInteractive(key) {\n",
              "          const element = document.querySelector('#df-afeb853c-c5e2-4216-9c03-75abd29c2898');\n",
              "          const dataTable =\n",
              "            await google.colab.kernel.invokeFunction('convertToInteractive',\n",
              "                                                     [key], {});\n",
              "          if (!dataTable) return;\n",
              "\n",
              "          const docLinkHtml = 'Like what you see? Visit the ' +\n",
              "            '<a target=\"_blank\" href=https://colab.research.google.com/notebooks/data_table.ipynb>data table notebook</a>'\n",
              "            + ' to learn more about interactive tables.';\n",
              "          element.innerHTML = '';\n",
              "          dataTable['output_type'] = 'display_data';\n",
              "          await google.colab.output.renderOutput(dataTable, element);\n",
              "          const docLink = document.createElement('div');\n",
              "          docLink.innerHTML = docLinkHtml;\n",
              "          element.appendChild(docLink);\n",
              "        }\n",
              "      </script>\n",
              "    </div>\n",
              "  </div>\n",
              "  "
            ]
          },
          "metadata": {},
          "execution_count": 43
        }
      ]
    },
    {
      "cell_type": "code",
      "source": [
        "import random\n",
        "ran = []\n",
        "for i in range(100):\n",
        "    a=random.randrange(0,8675)\n",
        "    ran.append(a)\n",
        "print(ran)"
      ],
      "metadata": {
        "execution": {
          "iopub.status.busy": "2022-04-23T06:25:27.580015Z",
          "iopub.execute_input": "2022-04-23T06:25:27.580306Z",
          "iopub.status.idle": "2022-04-23T06:25:27.585919Z",
          "shell.execute_reply.started": "2022-04-23T06:25:27.580278Z",
          "shell.execute_reply": "2022-04-23T06:25:27.584976Z"
        },
        "trusted": true,
        "colab": {
          "base_uri": "https://localhost:8080/"
        },
        "id": "3mx7PhHovSfy",
        "outputId": "d226b99d-4e06-4702-858d-0d137a9c656d"
      },
      "execution_count": 44,
      "outputs": [
        {
          "output_type": "stream",
          "name": "stdout",
          "text": [
            "[3169, 2670, 4500, 2098, 4565, 70, 5442, 7161, 4146, 7945, 1750, 4386, 2353, 5020, 55, 7917, 8300, 2731, 4097, 4548, 2199, 1817, 2396, 8271, 1118, 4907, 939, 3865, 2347, 4228, 239, 588, 5195, 2055, 5050, 265, 5994, 6953, 1583, 2123, 3864, 1445, 4429, 3086, 43, 4197, 8095, 6933, 1524, 1549, 1945, 2995, 7458, 1585, 3326, 8275, 6650, 7890, 7828, 679, 7883, 3977, 65, 2808, 4549, 1933, 3709, 1126, 7313, 7066, 8297, 94, 8162, 8117, 6683, 6483, 7719, 5007, 4359, 8442, 4650, 6829, 5827, 1812, 4342, 5590, 1917, 8189, 4725, 2745, 852, 7543, 5020, 2358, 7970, 2298, 3543, 8081, 3583, 3141]\n"
          ]
        }
      ]
    },
    {
      "cell_type": "code",
      "source": [
        "correct = 0\n",
        "wrong = 0\n",
        "for i in ran:\n",
        "    my_posts = test_df[\"posts\"][i]\n",
        "    # The type is just a dummy so that the data prep function can be reused\n",
        "    mydata = pd.DataFrame(data={'type': test_df[\"type\"][i], 'posts': [my_posts]})\n",
        "\n",
        "    my_posts, dummy  = pre_process_text(mydata, remove_stop_words=True, remove_mbti_profiles=True)\n",
        "\n",
        "    my_X_cnt = cntizer.transform(my_posts)\n",
        "    my_X_tfidf =  tfizer.transform(my_X_cnt).toarray()\n",
        "    \n",
        "\n",
        "    result = []\n",
        "    # Individually training each mbti personlity type\n",
        "    for l in range(len(personality_type)):\n",
        "        #print(\"%s classifier trained\" % (personality_type[l]))\n",
        "    \n",
        "        Y = list_personality[:,l]\n",
        "\n",
        "        # split data into train and test sets\n",
        "        X_train, X_test, y_train, y_test = train_test_split(X, Y, test_size=0.33, random_state=7)\n",
        "\n",
        "        # fit model on training data\n",
        "            # fit model on training data\n",
        "        model = SVC(random_state = 1)\n",
        "        model.fit(X_train, y_train)\n",
        "\n",
        "        # make predictions for test data\n",
        "        y_pred = model.predict(X_test)\n",
        "        y_corr = test_df[\"type\"][i]\n",
        "        result.append(y_pred[0])\n",
        "    print(\"True: %s\"%(y_corr))\n",
        "    aa = translate_back(result)\n",
        "    print(aa)\n",
        "    if aa == y_corr:\n",
        "        correct+=1\n",
        "    else:\n",
        "        wrong+=1\n",
        "            \n",
        "print(\"Correct:%d\"%(correct))\n",
        "print(\"Wrong:%d\"%(wrong))"
      ],
      "metadata": {
        "execution": {
          "iopub.status.busy": "2022-04-23T06:25:27.587429Z",
          "iopub.execute_input": "2022-04-23T06:25:27.587746Z",
          "iopub.status.idle": "2022-04-23T09:06:21.768007Z",
          "shell.execute_reply.started": "2022-04-23T06:25:27.587715Z",
          "shell.execute_reply": "2022-04-23T09:06:21.764461Z"
        },
        "trusted": true,
        "colab": {
          "base_uri": "https://localhost:8080/"
        },
        "id": "QVGEo4xRvSfy",
        "outputId": "a997cff1-0ca0-460f-b70d-12daf397deae"
      },
      "execution_count": 45,
      "outputs": [
        {
          "output_type": "stream",
          "name": "stdout",
          "text": [
            "True: INFJ\n",
            "INTP\n",
            "True: INTP\n",
            "INTP\n",
            "True: INFP\n",
            "INTP\n",
            "True: INFJ\n",
            "INTP\n",
            "True: INFJ\n",
            "INTP\n",
            "True: INFJ\n",
            "INTP\n",
            "True: INFJ\n",
            "INTP\n",
            "True: ISFP\n",
            "INTP\n",
            "True: INFJ\n",
            "INTP\n",
            "True: ISTP\n",
            "INTP\n",
            "True: INTP\n",
            "INTP\n",
            "True: INFJ\n",
            "INTP\n",
            "True: ISTP\n",
            "INTP\n",
            "True: INFP\n",
            "INTP\n",
            "True: INFP\n",
            "INTP\n",
            "True: INTP\n",
            "INTP\n",
            "True: ISTP\n",
            "INTP\n",
            "True: ENTP\n",
            "INTP\n",
            "True: INFJ\n",
            "INTP\n",
            "True: INFP\n",
            "INTP\n",
            "True: INFJ\n",
            "INTP\n",
            "True: ENTP\n",
            "INTP\n",
            "True: INTP\n",
            "INTP\n",
            "True: ENFP\n",
            "INTP\n",
            "True: ISTP\n",
            "INTP\n",
            "True: ESTJ\n",
            "INTP\n",
            "True: INTP\n",
            "INTP\n",
            "True: ENFJ\n",
            "INTP\n",
            "True: INTJ\n",
            "INTP\n",
            "True: INFJ\n",
            "INTP\n",
            "True: ISFP\n",
            "INTP\n",
            "True: ENFJ\n",
            "INTP\n",
            "True: INFJ\n",
            "INTP\n",
            "True: INFP\n",
            "INTP\n",
            "True: ISFP\n",
            "INTP\n",
            "True: INFP\n",
            "INTP\n",
            "True: ENFP\n",
            "INTP\n",
            "True: ISTJ\n",
            "INTP\n",
            "True: INFJ\n",
            "INTP\n",
            "True: INFP\n",
            "INTP\n",
            "True: INFP\n",
            "INTP\n",
            "True: INFJ\n",
            "INTP\n",
            "True: ENFP\n",
            "INTP\n",
            "True: INTP\n",
            "INTP\n",
            "True: INFP\n",
            "INTP\n",
            "True: INFJ\n",
            "INTP\n",
            "True: ENFP\n",
            "INTP\n",
            "True: ISFJ\n",
            "INTP\n",
            "True: ENFP\n",
            "INTP\n",
            "True: INFJ\n",
            "INTP\n",
            "True: INTP\n",
            "INTP\n",
            "True: INFP\n",
            "INTP\n",
            "True: INTP\n",
            "INTP\n",
            "True: INFP\n",
            "INTP\n",
            "True: INFJ\n",
            "INTP\n",
            "True: INTJ\n",
            "INTP\n",
            "True: INFP\n",
            "INTP\n",
            "True: INTP\n",
            "INTP\n",
            "True: INTJ\n",
            "INTP\n",
            "True: INFP\n",
            "INTP\n",
            "True: ISTJ\n",
            "INTP\n",
            "True: INFP\n",
            "INTP\n",
            "True: INTP\n",
            "INTP\n",
            "True: INFP\n",
            "INTP\n",
            "True: INTP\n",
            "INTP\n",
            "True: ISTP\n",
            "INTP\n",
            "True: ISTJ\n",
            "INTP\n",
            "True: INFJ\n",
            "INTP\n",
            "True: ISFP\n",
            "INTP\n",
            "True: INTP\n",
            "INTP\n",
            "True: INTP\n",
            "INTP\n",
            "True: INFJ\n",
            "INTP\n",
            "True: INTP\n",
            "INTP\n",
            "True: INTP\n",
            "INTP\n",
            "True: INFP\n",
            "INTP\n",
            "True: ENTP\n",
            "INTP\n",
            "True: INFP\n",
            "INTP\n",
            "True: ISTJ\n",
            "INTP\n",
            "True: ISFJ\n",
            "INTP\n",
            "True: ENTP\n",
            "INTP\n",
            "True: ISTP\n",
            "INTP\n",
            "True: INFJ\n",
            "INTP\n",
            "True: INFJ\n",
            "INTP\n",
            "True: INTP\n",
            "INTP\n",
            "True: INFP\n",
            "INTP\n",
            "True: INFJ\n",
            "INTP\n",
            "True: ENTP\n",
            "INTP\n",
            "True: ENFJ\n",
            "INTP\n",
            "True: INTP\n",
            "INTP\n",
            "True: INFJ\n",
            "INTP\n",
            "True: INTJ\n",
            "INTP\n",
            "True: ISTP\n",
            "INTP\n",
            "True: INFP\n",
            "INTP\n",
            "True: ENFP\n",
            "INTP\n",
            "True: ENTJ\n",
            "INTP\n",
            "True: ENFP\n",
            "INTP\n",
            "True: INTP\n",
            "INTP\n",
            "True: INTJ\n",
            "INTP\n",
            "True: INFP\n",
            "INTP\n",
            "True: INTP\n",
            "INTP\n",
            "Correct:19\n",
            "Wrong:81\n"
          ]
        }
      ]
    }
  ]
}